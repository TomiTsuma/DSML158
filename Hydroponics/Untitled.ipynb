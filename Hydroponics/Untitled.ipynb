{
 "cells": [
  {
   "cell_type": "code",
   "execution_count": 1,
   "id": "b7217690-303c-4e4c-81c6-a330716cedea",
   "metadata": {},
   "outputs": [],
   "source": [
    "import pandas as pd"
   ]
  },
  {
   "cell_type": "code",
   "execution_count": 2,
   "id": "9c6d3919-f941-431b-b838-798f8edc0315",
   "metadata": {},
   "outputs": [],
   "source": [
    "df = pd.read_csv(\"test_results.csv\")"
   ]
  },
  {
   "cell_type": "code",
   "execution_count": 3,
   "id": "9fe5920d-ab1f-4ea8-8c6f-9e6a2057f9a8",
   "metadata": {},
   "outputs": [],
   "source": [
    "df.status.value_counts().to_csv(\"status_value_counts.csv\")"
   ]
  },
  {
   "cell_type": "code",
   "execution_count": null,
   "id": "f2f3cd74-e855-4c16-b411-60d4c05e23c8",
   "metadata": {},
   "outputs": [],
   "source": []
  },
  {
   "cell_type": "code",
   "execution_count": null,
   "id": "0e9a2cc5-27df-475e-a549-366d30611892",
   "metadata": {},
   "outputs": [],
   "source": []
  },
  {
   "cell_type": "code",
   "execution_count": null,
   "id": "f2b1b394-a17c-4f6a-9bd8-901cad5c54db",
   "metadata": {},
   "outputs": [],
   "source": []
  },
  {
   "cell_type": "code",
   "execution_count": 4,
   "id": "30ea5b2b-2b92-434e-a134-94f108563bf1",
   "metadata": {},
   "outputs": [],
   "source": [
    "import psycopg2\n",
    "\n",
    "import pandas as pd\n",
    "import numpy as np\n",
    "import mariadb\n",
    "# import dask.dataframe as dd\n",
    "import json\n",
    "import os\n",
    "import shutil\n",
    "import subprocess\n",
    "from pathlib import Path\n",
    "import pyodbc\n",
    "from datetime import datetime\n",
    "from dateutil import parser"
   ]
  },
  {
   "cell_type": "code",
   "execution_count": 5,
   "id": "67c264ee-582e-4f34-8022-b099152e931a",
   "metadata": {},
   "outputs": [],
   "source": [
    "conn_lims = pyodbc.connect(\"Driver={SQL Server};\"\n",
    "                            \"Server=192.168.5.18\\CROPNUT;\"\n",
    "                            \"Database=cropnuts;\"\n",
    "                            \"uid=thomasTsuma;pwd=GR^KX$uRe9#JwLc6\")"
   ]
  },
  {
   "cell_type": "code",
   "execution_count": 9,
   "id": "61445bef-2b5a-4191-af2a-5ea64a95db47",
   "metadata": {},
   "outputs": [
    {
     "name": "stderr",
     "output_type": "stream",
     "text": [
      "C:\\Users\\tsuma.thomas\\AppData\\Local\\Temp\\ipykernel_19204\\2661837295.py:1: UserWarning: pandas only supports SQLAlchemy connectable (engine/connection) or database string URI or sqlite3 DBAPI2 connection. Other DBAPI2 objects are not tested. Please consider using SQLAlchemy.\n",
      "  chemicals = pd.read_sql(\"SELECT chemical_symbol, chemical_name FROM Chemicals\",con =conn_lims)\n"
     ]
    }
   ],
   "source": [
    "chemicals = pd.read_sql(\"SELECT chemical_symbol, chemical_name FROM Chemicals\",con =conn_lims)"
   ]
  },
  {
   "cell_type": "code",
   "execution_count": 10,
   "id": "e7c8bdae-f0e3-41c3-bf53-e51dd6ca4931",
   "metadata": {},
   "outputs": [
    {
     "data": {
      "text/html": [
       "<div>\n",
       "<style scoped>\n",
       "    .dataframe tbody tr th:only-of-type {\n",
       "        vertical-align: middle;\n",
       "    }\n",
       "\n",
       "    .dataframe tbody tr th {\n",
       "        vertical-align: top;\n",
       "    }\n",
       "\n",
       "    .dataframe thead th {\n",
       "        text-align: right;\n",
       "    }\n",
       "</style>\n",
       "<table border=\"1\" class=\"dataframe\">\n",
       "  <thead>\n",
       "    <tr style=\"text-align: right;\">\n",
       "      <th></th>\n",
       "      <th>chemical_symbol</th>\n",
       "      <th>chemical_name</th>\n",
       "    </tr>\n",
       "  </thead>\n",
       "  <tbody>\n",
       "    <tr>\n",
       "      <th>0</th>\n",
       "      <td>K</td>\n",
       "      <td>Potassium</td>\n",
       "    </tr>\n",
       "    <tr>\n",
       "      <th>1</th>\n",
       "      <td>pH</td>\n",
       "      <td>pH</td>\n",
       "    </tr>\n",
       "    <tr>\n",
       "      <th>2</th>\n",
       "      <td>Ca</td>\n",
       "      <td>Calcium</td>\n",
       "    </tr>\n",
       "    <tr>\n",
       "      <th>3</th>\n",
       "      <td>Na</td>\n",
       "      <td>Sodium</td>\n",
       "    </tr>\n",
       "    <tr>\n",
       "      <th>4</th>\n",
       "      <td>Mg</td>\n",
       "      <td>Magnesium</td>\n",
       "    </tr>\n",
       "    <tr>\n",
       "      <th>...</th>\n",
       "      <td>...</td>\n",
       "      <td>...</td>\n",
       "    </tr>\n",
       "    <tr>\n",
       "      <th>1357</th>\n",
       "      <td>VB2</td>\n",
       "      <td>Vitamin B2</td>\n",
       "    </tr>\n",
       "    <tr>\n",
       "      <th>1358</th>\n",
       "      <td>VB6</td>\n",
       "      <td>Vitamin B6</td>\n",
       "    </tr>\n",
       "    <tr>\n",
       "      <th>1359</th>\n",
       "      <td>NCn</td>\n",
       "      <td>Niacin</td>\n",
       "    </tr>\n",
       "    <tr>\n",
       "      <th>1360</th>\n",
       "      <td>EtOH Con</td>\n",
       "      <td>Ethanol Content</td>\n",
       "    </tr>\n",
       "    <tr>\n",
       "      <th>1361</th>\n",
       "      <td>WAc</td>\n",
       "      <td>Water Activity</td>\n",
       "    </tr>\n",
       "  </tbody>\n",
       "</table>\n",
       "<p>1362 rows × 2 columns</p>\n",
       "</div>"
      ],
      "text/plain": [
       "     chemical_symbol    chemical_name\n",
       "0         K                 Potassium\n",
       "1         pH                       pH\n",
       "2         Ca                  Calcium\n",
       "3         Na                   Sodium\n",
       "4         Mg                Magnesium\n",
       "...              ...              ...\n",
       "1357             VB2       Vitamin B2\n",
       "1358             VB6       Vitamin B6\n",
       "1359             NCn           Niacin\n",
       "1360        EtOH Con  Ethanol Content\n",
       "1361             WAc   Water Activity\n",
       "\n",
       "[1362 rows x 2 columns]"
      ]
     },
     "execution_count": 10,
     "metadata": {},
     "output_type": "execute_result"
    }
   ],
   "source": [
    "chemicals"
   ]
  },
  {
   "cell_type": "code",
   "execution_count": 11,
   "id": "dea2b745-a580-4cb6-bfbf-e3002cdabe85",
   "metadata": {},
   "outputs": [],
   "source": [
    "chemicals = chemicals.replace('Phosphorus(Olsen)', 'Phosphorus (Olsen)')\n"
   ]
  },
  {
   "cell_type": "code",
   "execution_count": 12,
   "id": "d03174b5-373d-479c-be2e-47fb56dc45e3",
   "metadata": {},
   "outputs": [],
   "source": [
    "chemicals['chemical_name'] = [ i.lower().replace(\" \",\"_\").replace(\".\",\"\").replace(\"(\",\"\").replace(\")\",\"\").replace(\"/\",\"\").strip() for i in chemicals['chemical_name'] ]"
   ]
  },
  {
   "cell_type": "code",
   "execution_count": 13,
   "id": "6ea2f2f0-0364-43b2-98b0-ad72a4c7cba3",
   "metadata": {},
   "outputs": [
    {
     "data": {
      "text/html": [
       "<div>\n",
       "<style scoped>\n",
       "    .dataframe tbody tr th:only-of-type {\n",
       "        vertical-align: middle;\n",
       "    }\n",
       "\n",
       "    .dataframe tbody tr th {\n",
       "        vertical-align: top;\n",
       "    }\n",
       "\n",
       "    .dataframe thead th {\n",
       "        text-align: right;\n",
       "    }\n",
       "</style>\n",
       "<table border=\"1\" class=\"dataframe\">\n",
       "  <thead>\n",
       "    <tr style=\"text-align: right;\">\n",
       "      <th></th>\n",
       "      <th>chemical_symbol</th>\n",
       "      <th>chemical_name</th>\n",
       "    </tr>\n",
       "  </thead>\n",
       "  <tbody>\n",
       "    <tr>\n",
       "      <th>0</th>\n",
       "      <td>K</td>\n",
       "      <td>potassium</td>\n",
       "    </tr>\n",
       "    <tr>\n",
       "      <th>1</th>\n",
       "      <td>pH</td>\n",
       "      <td>ph</td>\n",
       "    </tr>\n",
       "    <tr>\n",
       "      <th>2</th>\n",
       "      <td>Ca</td>\n",
       "      <td>calcium</td>\n",
       "    </tr>\n",
       "    <tr>\n",
       "      <th>3</th>\n",
       "      <td>Na</td>\n",
       "      <td>sodium</td>\n",
       "    </tr>\n",
       "    <tr>\n",
       "      <th>4</th>\n",
       "      <td>Mg</td>\n",
       "      <td>magnesium</td>\n",
       "    </tr>\n",
       "    <tr>\n",
       "      <th>...</th>\n",
       "      <td>...</td>\n",
       "      <td>...</td>\n",
       "    </tr>\n",
       "    <tr>\n",
       "      <th>1357</th>\n",
       "      <td>VB2</td>\n",
       "      <td>vitamin_b2</td>\n",
       "    </tr>\n",
       "    <tr>\n",
       "      <th>1358</th>\n",
       "      <td>VB6</td>\n",
       "      <td>vitamin_b6</td>\n",
       "    </tr>\n",
       "    <tr>\n",
       "      <th>1359</th>\n",
       "      <td>NCn</td>\n",
       "      <td>niacin</td>\n",
       "    </tr>\n",
       "    <tr>\n",
       "      <th>1360</th>\n",
       "      <td>EtOH Con</td>\n",
       "      <td>ethanol_content</td>\n",
       "    </tr>\n",
       "    <tr>\n",
       "      <th>1361</th>\n",
       "      <td>WAc</td>\n",
       "      <td>water_activity</td>\n",
       "    </tr>\n",
       "  </tbody>\n",
       "</table>\n",
       "<p>1362 rows × 2 columns</p>\n",
       "</div>"
      ],
      "text/plain": [
       "     chemical_symbol    chemical_name\n",
       "0         K                 potassium\n",
       "1         pH                       ph\n",
       "2         Ca                  calcium\n",
       "3         Na                   sodium\n",
       "4         Mg                magnesium\n",
       "...              ...              ...\n",
       "1357             VB2       vitamin_b2\n",
       "1358             VB6       vitamin_b6\n",
       "1359             NCn           niacin\n",
       "1360        EtOH Con  ethanol_content\n",
       "1361             WAc   water_activity\n",
       "\n",
       "[1362 rows x 2 columns]"
      ]
     },
     "execution_count": 13,
     "metadata": {},
     "output_type": "execute_result"
    }
   ],
   "source": [
    "chemicals"
   ]
  },
  {
   "cell_type": "code",
   "execution_count": 14,
   "id": "54e0fc01-fed9-46e7-8f4f-6171242dd597",
   "metadata": {},
   "outputs": [],
   "source": [
    "chemicals.to_csv(\"chemicals.csv\")"
   ]
  },
  {
   "cell_type": "code",
   "execution_count": null,
   "id": "47943801-4b3c-4c3a-a1ec-1f1c35f30552",
   "metadata": {},
   "outputs": [],
   "source": []
  }
 ],
 "metadata": {
  "kernelspec": {
   "display_name": "Python 3 (ipykernel)",
   "language": "python",
   "name": "python3"
  },
  "language_info": {
   "codemirror_mode": {
    "name": "ipython",
    "version": 3
   },
   "file_extension": ".py",
   "mimetype": "text/x-python",
   "name": "python",
   "nbconvert_exporter": "python",
   "pygments_lexer": "ipython3",
   "version": "3.11.0"
  }
 },
 "nbformat": 4,
 "nbformat_minor": 5
}
