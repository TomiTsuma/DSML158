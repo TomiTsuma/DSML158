{
 "cells": [
  {
   "cell_type": "code",
   "execution_count": 1,
   "id": "60d39acd-6c74-4d41-b6b0-4fa8fb0afaca",
   "metadata": {},
   "outputs": [],
   "source": [
    "import psycopg2\n",
    "\n",
    "import pandas as pd\n",
    "import numpy as np\n",
    "import mariadb\n",
    "# import dask.dataframe as dd\n",
    "import json\n",
    "import os\n",
    "import shutil\n",
    "import subprocess\n",
    "from pathlib import Path\n",
    "import pyodbc"
   ]
  },
  {
   "cell_type": "code",
   "execution_count": 2,
   "id": "89d2dd68-1e70-430a-b07c-6fbe3a07a7b7",
   "metadata": {},
   "outputs": [],
   "source": [
    "conn_lims = pyodbc.connect(\"Driver={SQL Server};\"\n",
    "                            \"Server=192.168.5.18\\CROPNUT;\"\n",
    "                            \"Database=cropnuts;\"\n",
    "                            \"uid=thomasTsuma;pwd=GR^KX$uRe9#JwLc6\")"
   ]
  },
  {
   "cell_type": "code",
   "execution_count": 3,
   "id": "5d40dcc5-fa5d-43c1-b7ef-1941389f4bae",
   "metadata": {},
   "outputs": [
    {
     "name": "stderr",
     "output_type": "stream",
     "text": [
      "C:\\Users\\tommy\\AppData\\Roaming\\Python\\Python38\\site-packages\\pandas\\io\\sql.py:761: UserWarning: pandas only support SQLAlchemy connectable(engine/connection) ordatabase string URI or sqlite3 DBAPI2 connectionother DBAPI2 objects are not tested, please consider using SQLAlchemy\n",
      "  warnings.warn(\n"
     ]
    }
   ],
   "source": [
    "water_df = pd.read_sql(\"select sample_code, batch_date, analysis_name, chemical_name, result, unit_name from SampleResults where group_name='Water Analysis'\",con=conn_lims)\n",
    "# batch_date > '2024-05-21 09:32:00.000' AND"
   ]
  },
  {
   "cell_type": "code",
   "execution_count": 4,
   "id": "b82bdc59-bde6-45df-85ac-9c29cc2267e0",
   "metadata": {},
   "outputs": [],
   "source": [
    "water_df.to_csv(\"input/water_samples.csv\")"
   ]
  },
  {
   "cell_type": "code",
   "execution_count": 5,
   "id": "246a5421-bf06-44b9-a2aa-acb3e2888693",
   "metadata": {},
   "outputs": [],
   "source": [
    "water_df = pd.read_csv(\"input/water_samples.csv\")"
   ]
  },
  {
   "cell_type": "code",
   "execution_count": 6,
   "id": "c3a4e79b-0be6-45d8-bda0-15b0c348f3bc",
   "metadata": {},
   "outputs": [
    {
     "data": {
      "text/plain": [
       "1014"
      ]
     },
     "execution_count": 6,
     "metadata": {},
     "output_type": "execute_result"
    }
   ],
   "source": [
    "len(water_df['analysis_name'].unique())"
   ]
  },
  {
   "cell_type": "code",
   "execution_count": 7,
   "id": "7fb360b9-8bc0-4275-aeb6-3550465aef77",
   "metadata": {},
   "outputs": [
    {
     "data": {
      "text/html": [
       "<div>\n",
       "<style scoped>\n",
       "    .dataframe tbody tr th:only-of-type {\n",
       "        vertical-align: middle;\n",
       "    }\n",
       "\n",
       "    .dataframe tbody tr th {\n",
       "        vertical-align: top;\n",
       "    }\n",
       "\n",
       "    .dataframe thead th {\n",
       "        text-align: right;\n",
       "    }\n",
       "</style>\n",
       "<table border=\"1\" class=\"dataframe\">\n",
       "  <thead>\n",
       "    <tr style=\"text-align: right;\">\n",
       "      <th></th>\n",
       "      <th>Unnamed: 0</th>\n",
       "      <th>sample_code</th>\n",
       "      <th>batch_date</th>\n",
       "      <th>analysis_name</th>\n",
       "      <th>chemical_name</th>\n",
       "      <th>result</th>\n",
       "      <th>unit_name</th>\n",
       "    </tr>\n",
       "  </thead>\n",
       "  <tbody>\n",
       "    <tr>\n",
       "      <th>0</th>\n",
       "      <td>0</td>\n",
       "      <td>CA335WA0010</td>\n",
       "      <td>2019-04-18 00:00:00.000</td>\n",
       "      <td>Reverse Osmosis Water Use</td>\n",
       "      <td>pH</td>\n",
       "      <td>8.27</td>\n",
       "      <td>NaN</td>\n",
       "    </tr>\n",
       "    <tr>\n",
       "      <th>1</th>\n",
       "      <td>1</td>\n",
       "      <td>CD026WA2057</td>\n",
       "      <td>2019-05-07 00:00:00.000</td>\n",
       "      <td>Reverse Osmosis Water Use</td>\n",
       "      <td>pH</td>\n",
       "      <td>8.25</td>\n",
       "      <td>NaN</td>\n",
       "    </tr>\n",
       "    <tr>\n",
       "      <th>2</th>\n",
       "      <td>2</td>\n",
       "      <td>CB012WA0052</td>\n",
       "      <td>2012-07-19 00:00:00.000</td>\n",
       "      <td>Irrigation Water Analysis,Feacal Coliforms (MP...</td>\n",
       "      <td>pH</td>\n",
       "      <td>7.25</td>\n",
       "      <td>NaN</td>\n",
       "    </tr>\n",
       "    <tr>\n",
       "      <th>3</th>\n",
       "      <td>3</td>\n",
       "      <td>CB012WA0052</td>\n",
       "      <td>2012-07-19 00:00:00.000</td>\n",
       "      <td>Irrigation Water Analysis,Feacal Coliforms (MP...</td>\n",
       "      <td>Electrical Conductivity</td>\n",
       "      <td>0.15</td>\n",
       "      <td>mS cm -1</td>\n",
       "    </tr>\n",
       "    <tr>\n",
       "      <th>4</th>\n",
       "      <td>4</td>\n",
       "      <td>CB012WA0052</td>\n",
       "      <td>2012-07-19 00:00:00.000</td>\n",
       "      <td>Irrigation Water Analysis,Feacal Coliforms (MP...</td>\n",
       "      <td>Ammonium</td>\n",
       "      <td>&lt; 0.01</td>\n",
       "      <td>ppm</td>\n",
       "    </tr>\n",
       "    <tr>\n",
       "      <th>...</th>\n",
       "      <td>...</td>\n",
       "      <td>...</td>\n",
       "      <td>...</td>\n",
       "      <td>...</td>\n",
       "      <td>...</td>\n",
       "      <td>...</td>\n",
       "      <td>...</td>\n",
       "    </tr>\n",
       "    <tr>\n",
       "      <th>1208496</th>\n",
       "      <td>1208496</td>\n",
       "      <td>CA028WA0130</td>\n",
       "      <td>2024-05-21 14:27:00.000</td>\n",
       "      <td>Standard Drinking Water Analysis (WHO)</td>\n",
       "      <td>Nitrate N</td>\n",
       "      <td>5.90</td>\n",
       "      <td>ppm</td>\n",
       "    </tr>\n",
       "    <tr>\n",
       "      <th>1208497</th>\n",
       "      <td>1208497</td>\n",
       "      <td>CB387WA0006</td>\n",
       "      <td>2024-05-21 09:32:00.000</td>\n",
       "      <td>Standard Drinking Water Analysis (WHO)</td>\n",
       "      <td>Phosphorus</td>\n",
       "      <td>0.012</td>\n",
       "      <td>ppm</td>\n",
       "    </tr>\n",
       "    <tr>\n",
       "      <th>1208498</th>\n",
       "      <td>1208498</td>\n",
       "      <td>CB387WA0006</td>\n",
       "      <td>2024-05-21 09:32:00.000</td>\n",
       "      <td>Standard Drinking Water Analysis (WHO)</td>\n",
       "      <td>Sulphur</td>\n",
       "      <td>5.27</td>\n",
       "      <td>ppm</td>\n",
       "    </tr>\n",
       "    <tr>\n",
       "      <th>1208499</th>\n",
       "      <td>1208499</td>\n",
       "      <td>CB387WA0006</td>\n",
       "      <td>2024-05-21 09:32:00.000</td>\n",
       "      <td>Standard Drinking Water Analysis (WHO)</td>\n",
       "      <td>Iron</td>\n",
       "      <td>0.013</td>\n",
       "      <td>ppm</td>\n",
       "    </tr>\n",
       "    <tr>\n",
       "      <th>1208500</th>\n",
       "      <td>1208500</td>\n",
       "      <td>CB387WA0006</td>\n",
       "      <td>2024-05-21 09:32:00.000</td>\n",
       "      <td>Standard Drinking Water Analysis (WHO)</td>\n",
       "      <td>Manganese</td>\n",
       "      <td>&lt; 0.01</td>\n",
       "      <td>ppm</td>\n",
       "    </tr>\n",
       "  </tbody>\n",
       "</table>\n",
       "<p>1208501 rows × 7 columns</p>\n",
       "</div>"
      ],
      "text/plain": [
       "         Unnamed: 0        sample_code               batch_date  \\\n",
       "0                 0        CA335WA0010  2019-04-18 00:00:00.000   \n",
       "1                 1  CD026WA2057        2019-05-07 00:00:00.000   \n",
       "2                 2        CB012WA0052  2012-07-19 00:00:00.000   \n",
       "3                 3        CB012WA0052  2012-07-19 00:00:00.000   \n",
       "4                 4        CB012WA0052  2012-07-19 00:00:00.000   \n",
       "...             ...                ...                      ...   \n",
       "1208496     1208496        CA028WA0130  2024-05-21 14:27:00.000   \n",
       "1208497     1208497        CB387WA0006  2024-05-21 09:32:00.000   \n",
       "1208498     1208498        CB387WA0006  2024-05-21 09:32:00.000   \n",
       "1208499     1208499        CB387WA0006  2024-05-21 09:32:00.000   \n",
       "1208500     1208500        CB387WA0006  2024-05-21 09:32:00.000   \n",
       "\n",
       "                                             analysis_name  \\\n",
       "0                                Reverse Osmosis Water Use   \n",
       "1                                Reverse Osmosis Water Use   \n",
       "2        Irrigation Water Analysis,Feacal Coliforms (MP...   \n",
       "3        Irrigation Water Analysis,Feacal Coliforms (MP...   \n",
       "4        Irrigation Water Analysis,Feacal Coliforms (MP...   \n",
       "...                                                    ...   \n",
       "1208496             Standard Drinking Water Analysis (WHO)   \n",
       "1208497             Standard Drinking Water Analysis (WHO)   \n",
       "1208498             Standard Drinking Water Analysis (WHO)   \n",
       "1208499             Standard Drinking Water Analysis (WHO)   \n",
       "1208500             Standard Drinking Water Analysis (WHO)   \n",
       "\n",
       "                   chemical_name      result unit_name  \n",
       "0                             pH        8.27       NaN  \n",
       "1                             pH        8.25       NaN  \n",
       "2                             pH  7.25             NaN  \n",
       "3        Electrical Conductivity  0.15        mS cm -1  \n",
       "4                       Ammonium      < 0.01       ppm  \n",
       "...                          ...         ...       ...  \n",
       "1208496                Nitrate N        5.90       ppm  \n",
       "1208497               Phosphorus       0.012       ppm  \n",
       "1208498                  Sulphur        5.27       ppm  \n",
       "1208499                     Iron       0.013       ppm  \n",
       "1208500                Manganese      < 0.01       ppm  \n",
       "\n",
       "[1208501 rows x 7 columns]"
      ]
     },
     "execution_count": 7,
     "metadata": {},
     "output_type": "execute_result"
    }
   ],
   "source": [
    "water_df"
   ]
  },
  {
   "cell_type": "code",
   "execution_count": 8,
   "id": "c8366916-0078-458d-ac1b-3a0466243ce6",
   "metadata": {},
   "outputs": [
    {
     "data": {
      "text/plain": [
       "count                                    1208501\n",
       "unique                                      1014\n",
       "top       Standard Drinking Water Analysis (WHO)\n",
       "freq                                      175578\n",
       "Name: analysis_name, dtype: object"
      ]
     },
     "execution_count": 8,
     "metadata": {},
     "output_type": "execute_result"
    }
   ],
   "source": [
    "water_df['analysis_name'].describe()"
   ]
  },
  {
   "cell_type": "code",
   "execution_count": 9,
   "id": "05b5771c-e19b-40d2-9cb6-85ff22226648",
   "metadata": {},
   "outputs": [],
   "source": [
    "water_df = water_df.loc[~(water_df['result'] == \"ND\") ]\n",
    "water_df = water_df.loc[~(water_df['result'] == \"Detected\") ]"
   ]
  },
  {
   "cell_type": "code",
   "execution_count": 10,
   "id": "6a06aa30-f442-4120-8332-b28904420294",
   "metadata": {},
   "outputs": [],
   "source": [
    "water_df = water_df.dropna(subset=\"result\")"
   ]
  },
  {
   "cell_type": "code",
   "execution_count": 11,
   "id": "e7013ce2-e27d-40af-932e-9cc6555af5d4",
   "metadata": {},
   "outputs": [
    {
     "data": {
      "text/html": [
       "<div>\n",
       "<style scoped>\n",
       "    .dataframe tbody tr th:only-of-type {\n",
       "        vertical-align: middle;\n",
       "    }\n",
       "\n",
       "    .dataframe tbody tr th {\n",
       "        vertical-align: top;\n",
       "    }\n",
       "\n",
       "    .dataframe thead th {\n",
       "        text-align: right;\n",
       "    }\n",
       "</style>\n",
       "<table border=\"1\" class=\"dataframe\">\n",
       "  <thead>\n",
       "    <tr style=\"text-align: right;\">\n",
       "      <th></th>\n",
       "      <th>Unnamed: 0</th>\n",
       "      <th>sample_code</th>\n",
       "      <th>batch_date</th>\n",
       "      <th>analysis_name</th>\n",
       "      <th>chemical_name</th>\n",
       "      <th>result</th>\n",
       "      <th>unit_name</th>\n",
       "    </tr>\n",
       "  </thead>\n",
       "  <tbody>\n",
       "    <tr>\n",
       "      <th>0</th>\n",
       "      <td>0</td>\n",
       "      <td>CA335WA0010</td>\n",
       "      <td>2019-04-18 00:00:00.000</td>\n",
       "      <td>Reverse Osmosis Water Use</td>\n",
       "      <td>pH</td>\n",
       "      <td>8.27</td>\n",
       "      <td>NaN</td>\n",
       "    </tr>\n",
       "    <tr>\n",
       "      <th>1</th>\n",
       "      <td>1</td>\n",
       "      <td>CD026WA2057</td>\n",
       "      <td>2019-05-07 00:00:00.000</td>\n",
       "      <td>Reverse Osmosis Water Use</td>\n",
       "      <td>pH</td>\n",
       "      <td>8.25</td>\n",
       "      <td>NaN</td>\n",
       "    </tr>\n",
       "    <tr>\n",
       "      <th>2</th>\n",
       "      <td>2</td>\n",
       "      <td>CB012WA0052</td>\n",
       "      <td>2012-07-19 00:00:00.000</td>\n",
       "      <td>Irrigation Water Analysis,Feacal Coliforms (MP...</td>\n",
       "      <td>pH</td>\n",
       "      <td>7.25</td>\n",
       "      <td>NaN</td>\n",
       "    </tr>\n",
       "    <tr>\n",
       "      <th>3</th>\n",
       "      <td>3</td>\n",
       "      <td>CB012WA0052</td>\n",
       "      <td>2012-07-19 00:00:00.000</td>\n",
       "      <td>Irrigation Water Analysis,Feacal Coliforms (MP...</td>\n",
       "      <td>Electrical Conductivity</td>\n",
       "      <td>0.15</td>\n",
       "      <td>mS cm -1</td>\n",
       "    </tr>\n",
       "    <tr>\n",
       "      <th>4</th>\n",
       "      <td>4</td>\n",
       "      <td>CB012WA0052</td>\n",
       "      <td>2012-07-19 00:00:00.000</td>\n",
       "      <td>Irrigation Water Analysis,Feacal Coliforms (MP...</td>\n",
       "      <td>Ammonium</td>\n",
       "      <td>&lt; 0.01</td>\n",
       "      <td>ppm</td>\n",
       "    </tr>\n",
       "    <tr>\n",
       "      <th>...</th>\n",
       "      <td>...</td>\n",
       "      <td>...</td>\n",
       "      <td>...</td>\n",
       "      <td>...</td>\n",
       "      <td>...</td>\n",
       "      <td>...</td>\n",
       "      <td>...</td>\n",
       "    </tr>\n",
       "    <tr>\n",
       "      <th>1208496</th>\n",
       "      <td>1208496</td>\n",
       "      <td>CA028WA0130</td>\n",
       "      <td>2024-05-21 14:27:00.000</td>\n",
       "      <td>Standard Drinking Water Analysis (WHO)</td>\n",
       "      <td>Nitrate N</td>\n",
       "      <td>5.90</td>\n",
       "      <td>ppm</td>\n",
       "    </tr>\n",
       "    <tr>\n",
       "      <th>1208497</th>\n",
       "      <td>1208497</td>\n",
       "      <td>CB387WA0006</td>\n",
       "      <td>2024-05-21 09:32:00.000</td>\n",
       "      <td>Standard Drinking Water Analysis (WHO)</td>\n",
       "      <td>Phosphorus</td>\n",
       "      <td>0.012</td>\n",
       "      <td>ppm</td>\n",
       "    </tr>\n",
       "    <tr>\n",
       "      <th>1208498</th>\n",
       "      <td>1208498</td>\n",
       "      <td>CB387WA0006</td>\n",
       "      <td>2024-05-21 09:32:00.000</td>\n",
       "      <td>Standard Drinking Water Analysis (WHO)</td>\n",
       "      <td>Sulphur</td>\n",
       "      <td>5.27</td>\n",
       "      <td>ppm</td>\n",
       "    </tr>\n",
       "    <tr>\n",
       "      <th>1208499</th>\n",
       "      <td>1208499</td>\n",
       "      <td>CB387WA0006</td>\n",
       "      <td>2024-05-21 09:32:00.000</td>\n",
       "      <td>Standard Drinking Water Analysis (WHO)</td>\n",
       "      <td>Iron</td>\n",
       "      <td>0.013</td>\n",
       "      <td>ppm</td>\n",
       "    </tr>\n",
       "    <tr>\n",
       "      <th>1208500</th>\n",
       "      <td>1208500</td>\n",
       "      <td>CB387WA0006</td>\n",
       "      <td>2024-05-21 09:32:00.000</td>\n",
       "      <td>Standard Drinking Water Analysis (WHO)</td>\n",
       "      <td>Manganese</td>\n",
       "      <td>&lt; 0.01</td>\n",
       "      <td>ppm</td>\n",
       "    </tr>\n",
       "  </tbody>\n",
       "</table>\n",
       "<p>1173985 rows × 7 columns</p>\n",
       "</div>"
      ],
      "text/plain": [
       "         Unnamed: 0        sample_code               batch_date  \\\n",
       "0                 0        CA335WA0010  2019-04-18 00:00:00.000   \n",
       "1                 1  CD026WA2057        2019-05-07 00:00:00.000   \n",
       "2                 2        CB012WA0052  2012-07-19 00:00:00.000   \n",
       "3                 3        CB012WA0052  2012-07-19 00:00:00.000   \n",
       "4                 4        CB012WA0052  2012-07-19 00:00:00.000   \n",
       "...             ...                ...                      ...   \n",
       "1208496     1208496        CA028WA0130  2024-05-21 14:27:00.000   \n",
       "1208497     1208497        CB387WA0006  2024-05-21 09:32:00.000   \n",
       "1208498     1208498        CB387WA0006  2024-05-21 09:32:00.000   \n",
       "1208499     1208499        CB387WA0006  2024-05-21 09:32:00.000   \n",
       "1208500     1208500        CB387WA0006  2024-05-21 09:32:00.000   \n",
       "\n",
       "                                             analysis_name  \\\n",
       "0                                Reverse Osmosis Water Use   \n",
       "1                                Reverse Osmosis Water Use   \n",
       "2        Irrigation Water Analysis,Feacal Coliforms (MP...   \n",
       "3        Irrigation Water Analysis,Feacal Coliforms (MP...   \n",
       "4        Irrigation Water Analysis,Feacal Coliforms (MP...   \n",
       "...                                                    ...   \n",
       "1208496             Standard Drinking Water Analysis (WHO)   \n",
       "1208497             Standard Drinking Water Analysis (WHO)   \n",
       "1208498             Standard Drinking Water Analysis (WHO)   \n",
       "1208499             Standard Drinking Water Analysis (WHO)   \n",
       "1208500             Standard Drinking Water Analysis (WHO)   \n",
       "\n",
       "                   chemical_name      result unit_name  \n",
       "0                             pH        8.27       NaN  \n",
       "1                             pH        8.25       NaN  \n",
       "2                             pH  7.25             NaN  \n",
       "3        Electrical Conductivity  0.15        mS cm -1  \n",
       "4                       Ammonium      < 0.01       ppm  \n",
       "...                          ...         ...       ...  \n",
       "1208496                Nitrate N        5.90       ppm  \n",
       "1208497               Phosphorus       0.012       ppm  \n",
       "1208498                  Sulphur        5.27       ppm  \n",
       "1208499                     Iron       0.013       ppm  \n",
       "1208500                Manganese      < 0.01       ppm  \n",
       "\n",
       "[1173985 rows x 7 columns]"
      ]
     },
     "execution_count": 11,
     "metadata": {},
     "output_type": "execute_result"
    }
   ],
   "source": [
    "water_df"
   ]
  },
  {
   "cell_type": "code",
   "execution_count": 12,
   "id": "e5d64355-1cac-465a-a6dd-9145dd843034",
   "metadata": {},
   "outputs": [],
   "source": [
    "water_df['result'] = [ float(i.replace(\"<\",\"\").replace(\">\",\"\").strip()) for i in water_df['result']]"
   ]
  },
  {
   "cell_type": "code",
   "execution_count": 13,
   "id": "e8ee7049-ae8e-462f-854c-c8cdc23543dd",
   "metadata": {},
   "outputs": [],
   "source": [
    "water_df['unit_name'] = [ str(i).strip() for i in water_df['unit_name'].values ]"
   ]
  },
  {
   "cell_type": "code",
   "execution_count": 14,
   "id": "36081c80-6b78-4d83-af35-144b1c5410d0",
   "metadata": {},
   "outputs": [],
   "source": [
    "water_df['chemical_name'] = [ str(i).lower().replace(\" \",\"_\").replace(\"(\",\"\").replace(\")\",\"\").replace(\".\",\"\").strip() for i in water_df['chemical_name'].values ]"
   ]
  },
  {
   "cell_type": "code",
   "execution_count": null,
   "id": "2bd7369b-0206-4082-8181-258e24901873",
   "metadata": {},
   "outputs": [],
   "source": []
  },
  {
   "cell_type": "code",
   "execution_count": 15,
   "id": "cc15b96e-9f44-4177-a257-7cf9fc7d4558",
   "metadata": {},
   "outputs": [],
   "source": [
    "water_df = water_df.loc[~(water_df['result'] < 0)]"
   ]
  },
  {
   "cell_type": "code",
   "execution_count": 16,
   "id": "dfae5a70-da99-4583-8395-1d8ce8057885",
   "metadata": {},
   "outputs": [],
   "source": [
    "water_df = water_df.loc[~(water_df['unit_name'] == \"nan\")]"
   ]
  },
  {
   "cell_type": "code",
   "execution_count": 18,
   "id": "2a359a2e-fdd7-4e6a-9d4f-98b95ddbf584",
   "metadata": {},
   "outputs": [],
   "source": [
    "df_ = water_df[['analysis_name','chemical_name','unit_name']].value_counts()\n",
    "df_.to_csv(\"output/water_unit_per_chemical.csv\")"
   ]
  },
  {
   "cell_type": "code",
   "execution_count": 19,
   "id": "6453ae4b-cc88-476d-92a7-7fca67a211b4",
   "metadata": {},
   "outputs": [],
   "source": [
    "df_ = df_.reset_index()"
   ]
  },
  {
   "cell_type": "code",
   "execution_count": 20,
   "id": "4bbe45de-3663-42d0-b585-9b6456bc6c17",
   "metadata": {},
   "outputs": [
    {
     "ename": "KeyError",
     "evalue": "'crop_name'",
     "output_type": "error",
     "traceback": [
      "\u001b[1;31m---------------------------------------------------------------------------\u001b[0m",
      "\u001b[1;31mKeyError\u001b[0m                                  Traceback (most recent call last)",
      "File \u001b[1;32m~\\AppData\\Roaming\\Python\\Python38\\site-packages\\pandas\\core\\indexes\\base.py:3621\u001b[0m, in \u001b[0;36mIndex.get_loc\u001b[1;34m(self, key, method, tolerance)\u001b[0m\n\u001b[0;32m   3620\u001b[0m \u001b[38;5;28;01mtry\u001b[39;00m:\n\u001b[1;32m-> 3621\u001b[0m     \u001b[38;5;28;01mreturn\u001b[39;00m \u001b[38;5;28;43mself\u001b[39;49m\u001b[38;5;241;43m.\u001b[39;49m\u001b[43m_engine\u001b[49m\u001b[38;5;241;43m.\u001b[39;49m\u001b[43mget_loc\u001b[49m\u001b[43m(\u001b[49m\u001b[43mcasted_key\u001b[49m\u001b[43m)\u001b[49m\n\u001b[0;32m   3622\u001b[0m \u001b[38;5;28;01mexcept\u001b[39;00m \u001b[38;5;167;01mKeyError\u001b[39;00m \u001b[38;5;28;01mas\u001b[39;00m err:\n",
      "File \u001b[1;32m~\\AppData\\Roaming\\Python\\Python38\\site-packages\\pandas\\_libs\\index.pyx:136\u001b[0m, in \u001b[0;36mpandas._libs.index.IndexEngine.get_loc\u001b[1;34m()\u001b[0m\n",
      "File \u001b[1;32m~\\AppData\\Roaming\\Python\\Python38\\site-packages\\pandas\\_libs\\index.pyx:163\u001b[0m, in \u001b[0;36mpandas._libs.index.IndexEngine.get_loc\u001b[1;34m()\u001b[0m\n",
      "File \u001b[1;32mpandas\\_libs\\hashtable_class_helper.pxi:5198\u001b[0m, in \u001b[0;36mpandas._libs.hashtable.PyObjectHashTable.get_item\u001b[1;34m()\u001b[0m\n",
      "File \u001b[1;32mpandas\\_libs\\hashtable_class_helper.pxi:5206\u001b[0m, in \u001b[0;36mpandas._libs.hashtable.PyObjectHashTable.get_item\u001b[1;34m()\u001b[0m\n",
      "\u001b[1;31mKeyError\u001b[0m: 'crop_name'",
      "\nThe above exception was the direct cause of the following exception:\n",
      "\u001b[1;31mKeyError\u001b[0m                                  Traceback (most recent call last)",
      "Cell \u001b[1;32mIn[20], line 2\u001b[0m\n\u001b[0;32m      1\u001b[0m crop_chem_unit_df \u001b[38;5;241m=\u001b[39m pd\u001b[38;5;241m.\u001b[39mDataFrame()\n\u001b[1;32m----> 2\u001b[0m \u001b[38;5;28;01mfor\u001b[39;00m crop \u001b[38;5;129;01min\u001b[39;00m \u001b[43mdf_\u001b[49m\u001b[43m[\u001b[49m\u001b[38;5;124;43m'\u001b[39;49m\u001b[38;5;124;43mcrop_name\u001b[39;49m\u001b[38;5;124;43m'\u001b[39;49m\u001b[43m]\u001b[49m\u001b[38;5;241m.\u001b[39munique():\n\u001b[0;32m      3\u001b[0m     \u001b[38;5;28mprint\u001b[39m(crop)\n\u001b[0;32m      4\u001b[0m     chems_count_ \u001b[38;5;241m=\u001b[39m df_\u001b[38;5;241m.\u001b[39mloc[df_[\u001b[38;5;124m'\u001b[39m\u001b[38;5;124mcrop_name\u001b[39m\u001b[38;5;124m'\u001b[39m] \u001b[38;5;241m==\u001b[39m crop]\n",
      "File \u001b[1;32m~\\AppData\\Roaming\\Python\\Python38\\site-packages\\pandas\\core\\frame.py:3505\u001b[0m, in \u001b[0;36mDataFrame.__getitem__\u001b[1;34m(self, key)\u001b[0m\n\u001b[0;32m   3503\u001b[0m \u001b[38;5;28;01mif\u001b[39;00m \u001b[38;5;28mself\u001b[39m\u001b[38;5;241m.\u001b[39mcolumns\u001b[38;5;241m.\u001b[39mnlevels \u001b[38;5;241m>\u001b[39m \u001b[38;5;241m1\u001b[39m:\n\u001b[0;32m   3504\u001b[0m     \u001b[38;5;28;01mreturn\u001b[39;00m \u001b[38;5;28mself\u001b[39m\u001b[38;5;241m.\u001b[39m_getitem_multilevel(key)\n\u001b[1;32m-> 3505\u001b[0m indexer \u001b[38;5;241m=\u001b[39m \u001b[38;5;28;43mself\u001b[39;49m\u001b[38;5;241;43m.\u001b[39;49m\u001b[43mcolumns\u001b[49m\u001b[38;5;241;43m.\u001b[39;49m\u001b[43mget_loc\u001b[49m\u001b[43m(\u001b[49m\u001b[43mkey\u001b[49m\u001b[43m)\u001b[49m\n\u001b[0;32m   3506\u001b[0m \u001b[38;5;28;01mif\u001b[39;00m is_integer(indexer):\n\u001b[0;32m   3507\u001b[0m     indexer \u001b[38;5;241m=\u001b[39m [indexer]\n",
      "File \u001b[1;32m~\\AppData\\Roaming\\Python\\Python38\\site-packages\\pandas\\core\\indexes\\base.py:3623\u001b[0m, in \u001b[0;36mIndex.get_loc\u001b[1;34m(self, key, method, tolerance)\u001b[0m\n\u001b[0;32m   3621\u001b[0m     \u001b[38;5;28;01mreturn\u001b[39;00m \u001b[38;5;28mself\u001b[39m\u001b[38;5;241m.\u001b[39m_engine\u001b[38;5;241m.\u001b[39mget_loc(casted_key)\n\u001b[0;32m   3622\u001b[0m \u001b[38;5;28;01mexcept\u001b[39;00m \u001b[38;5;167;01mKeyError\u001b[39;00m \u001b[38;5;28;01mas\u001b[39;00m err:\n\u001b[1;32m-> 3623\u001b[0m     \u001b[38;5;28;01mraise\u001b[39;00m \u001b[38;5;167;01mKeyError\u001b[39;00m(key) \u001b[38;5;28;01mfrom\u001b[39;00m \u001b[38;5;21;01merr\u001b[39;00m\n\u001b[0;32m   3624\u001b[0m \u001b[38;5;28;01mexcept\u001b[39;00m \u001b[38;5;167;01mTypeError\u001b[39;00m:\n\u001b[0;32m   3625\u001b[0m     \u001b[38;5;66;03m# If we have a listlike key, _check_indexing_error will raise\u001b[39;00m\n\u001b[0;32m   3626\u001b[0m     \u001b[38;5;66;03m#  InvalidIndexError. Otherwise we fall through and re-raise\u001b[39;00m\n\u001b[0;32m   3627\u001b[0m     \u001b[38;5;66;03m#  the TypeError.\u001b[39;00m\n\u001b[0;32m   3628\u001b[0m     \u001b[38;5;28mself\u001b[39m\u001b[38;5;241m.\u001b[39m_check_indexing_error(key)\n",
      "\u001b[1;31mKeyError\u001b[0m: 'crop_name'"
     ]
    }
   ],
   "source": [
    "crop_chem_unit_df = pd.DataFrame()\n",
    "for crop in df_['crop_name'].unique():\n",
    "    print(crop)\n",
    "    chems_count_ = df_.loc[df_['crop_name'] == crop]\n",
    "    duplicates_chem = (chems_count_[chems_count_.duplicated(subset='chemical_name')])\n",
    "    temp_crop_chem_unit_df = pd.DataFrame()\n",
    "    for index,row in duplicates_chem.iterrows():\n",
    "        chemical = row['chemical_name']\n",
    "        chems_count_2 = chems_count_.loc[chems_count_['chemical_name'] == chemical ]\n",
    "        unit = chems_count_2.loc[chems_count_2['count'] == max(chems_count_2['count'])]['unit_name'].values[0]\n",
    "        _ = pd.DataFrame({\"crop\":[crop],\"chemical_name\":[chemical], \"unit_name\":[unit]})\n",
    "        temp_crop_chem_unit_df = pd.concat([temp_crop_chem_unit_df, _])\n",
    "    crop_chem_unit_df = pd.concat([crop_chem_unit_df, temp_crop_chem_unit_df])\n",
    "crop_chem_unit_df.to_csv(\"output/water_unit_per_chemical_decision.csv\")"
   ]
  },
  {
   "cell_type": "code",
   "execution_count": null,
   "id": "cc40914f-cc65-4fe1-b2ff-fecf70414328",
   "metadata": {},
   "outputs": [],
   "source": [
    "water_df_copy = water_df.copy(deep=True)"
   ]
  },
  {
   "cell_type": "code",
   "execution_count": null,
   "id": "6d61a2b2-775a-44db-aeff-6feb9d3c4611",
   "metadata": {
    "scrolled": true
   },
   "outputs": [],
   "source": [
    "for index,row in crop_chem_unit_df.iterrows():\n",
    "    crop = row.crop\n",
    "    chemical = row.chemical_name\n",
    "    unit = row.unit_name\n",
    "    print(row)\n",
    "\n",
    "    water_df_copy = (water_df_copy.loc[~((water_df_copy['crop_name'] == crop) & (water_df_copy['chemical_name'] == chemical) & (water_df_copy['unit_name'] != unit))])"
   ]
  },
  {
   "cell_type": "code",
   "execution_count": null,
   "id": "256fb253-b722-42bd-a295-4073bb437a30",
   "metadata": {},
   "outputs": [],
   "source": [
    "water_df"
   ]
  },
  {
   "cell_type": "code",
   "execution_count": null,
   "id": "5b28ea09-739c-4665-828a-38d89598ebfb",
   "metadata": {},
   "outputs": [],
   "source": [
    "water_df_copy"
   ]
  },
  {
   "cell_type": "code",
   "execution_count": null,
   "id": "924393e7-a7e5-4aec-88c1-ce509216f3e0",
   "metadata": {},
   "outputs": [],
   "source": [
    "for crop in water_df['crop_name'].unique():\n",
    "    crop_df = water_df.loc[water_df['crop_name'] == crop]\n",
    "    print(crop_df)\n",
    "    break"
   ]
  },
  {
   "cell_type": "code",
   "execution_count": null,
   "id": "a05ea04c-6bb4-42bb-8b6d-e05dedcf3d22",
   "metadata": {},
   "outputs": [],
   "source": [
    "[ i for i in water_df.columns]"
   ]
  },
  {
   "cell_type": "code",
   "execution_count": null,
   "id": "44dd7705-a797-4969-ac0c-25c2ba0a41a3",
   "metadata": {},
   "outputs": [],
   "source": []
  },
  {
   "cell_type": "code",
   "execution_count": null,
   "id": "39a25098-fae1-4fc8-ad75-d68eb11d47d8",
   "metadata": {},
   "outputs": [],
   "source": []
  },
  {
   "cell_type": "code",
   "execution_count": null,
   "id": "27e99e71-118e-49a8-b323-2637fc659287",
   "metadata": {},
   "outputs": [],
   "source": [
    "water_df.to_csv(\"input/water_analysis_cleaned.csv\")"
   ]
  },
  {
   "cell_type": "code",
   "execution_count": null,
   "id": "ef890046-dd02-493c-b5aa-38f9d79cb4d1",
   "metadata": {},
   "outputs": [],
   "source": [
    "params_count_dict = {}\n",
    "params_dict = {}"
   ]
  },
  {
   "cell_type": "code",
   "execution_count": null,
   "id": "e4dd733e-0a5e-495f-88cb-b54511f9a863",
   "metadata": {
    "scrolled": true
   },
   "outputs": [],
   "source": [
    "for i in water_df['crop_name'].unique():\n",
    "    print(i)\n",
    "    temp = water_df.loc[water_df['crop_name'] == i].pivot_table(columns=\"chemical_name\", index=\"sample_code\", values=\"result\")\n",
    "    temp_count = pd.DataFrame(temp.isna().sum(axis=0))\n",
    "\n",
    "    print(len(temp_count[temp_count != len(temp)].index))\n",
    "    params_count_dict[i] = temp.isna().sum(axis=0).to_dict()\n",
    "    params_dict[i] = temp_count[temp_count != len(temp)].index"
   ]
  },
  {
   "cell_type": "code",
   "execution_count": null,
   "id": "0a944bdc-0f15-4064-84bf-58ae26f2fd73",
   "metadata": {},
   "outputs": [],
   "source": [
    "pd.DataFrame(params_count_dict).to_csv(\"output/parameters_count_per_crop_name.csv\")"
   ]
  },
  {
   "cell_type": "code",
   "execution_count": null,
   "id": "7108c35b-7bf6-46b9-abaa-1185adb97593",
   "metadata": {},
   "outputs": [],
   "source": [
    "df = pd.DataFrame()\n",
    "for crop, params in params_dict.items():\n",
    "    _ = pd.DataFrame(columns=[i for i in params])\n",
    "    for col in _.columns:\n",
    "        _[col] = [True]\n",
    "    _['crop_name'] = crop\n",
    "    df = pd.concat([df,_])\n",
    "df.to_csv(\"output/parameters_per_crop.csv\")"
   ]
  },
  {
   "cell_type": "code",
   "execution_count": null,
   "id": "28c233b5-c9bf-4e24-85ba-fbae1105ba30",
   "metadata": {},
   "outputs": [],
   "source": []
  },
  {
   "cell_type": "code",
   "execution_count": null,
   "id": "b2a90736-6f4f-4624-8e45-34e20142eee3",
   "metadata": {},
   "outputs": [],
   "source": []
  }
 ],
 "metadata": {
  "kernelspec": {
   "display_name": "Python 3 (ipykernel)",
   "language": "python",
   "name": "python3"
  },
  "language_info": {
   "codemirror_mode": {
    "name": "ipython",
    "version": 3
   },
   "file_extension": ".py",
   "mimetype": "text/x-python",
   "name": "python",
   "nbconvert_exporter": "python",
   "pygments_lexer": "ipython3",
   "version": "3.8.0"
  }
 },
 "nbformat": 4,
 "nbformat_minor": 5
}
