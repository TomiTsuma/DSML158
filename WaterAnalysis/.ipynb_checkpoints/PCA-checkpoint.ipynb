{
 "cells": [
  {
   "cell_type": "code",
   "execution_count": 1,
   "id": "a77d5610-ffa8-4804-aaa3-1cb55690a5cd",
   "metadata": {},
   "outputs": [],
   "source": [
    "import psycopg2\n",
    "import pandas as pd\n",
    "import numpy as np\n",
    "import mariadb\n",
    "import json\n",
    "import os\n",
    "import shutil\n",
    "import subprocess\n",
    "from pathlib import Path\n",
    "import pyodbc\n",
    "from sklearn.decomposition import PCA\n",
    "from sklearn.preprocessing import StandardScaler\n",
    "from scipy.spatial import distance\n",
    "import pickle\n",
    "import matplotlib.pyplot as plt"
   ]
  },
  {
   "cell_type": "code",
   "execution_count": 14,
   "id": "2cf79abd-b573-472e-b82a-e1815e4e528f",
   "metadata": {},
   "outputs": [],
   "source": [
    "water_df = pd.read_csv(\"output/water_single_analysis.csv\")"
   ]
  },
  {
   "cell_type": "code",
   "execution_count": 15,
   "id": "c6fe7ac8-c81d-42c7-b5a7-f041972644a2",
   "metadata": {},
   "outputs": [
    {
     "data": {
      "text/plain": [
       "42"
      ]
     },
     "execution_count": 15,
     "metadata": {},
     "output_type": "execute_result"
    }
   ],
   "source": [
    "water_df['analysis_name'].nunique()"
   ]
  },
  {
   "cell_type": "code",
   "execution_count": 16,
   "id": "67328b70-472c-412e-a734-8d26a9c655d3",
   "metadata": {},
   "outputs": [],
   "source": [
    "water_df['analysis_name'] = [i.replace(\":\",\"\") for i in water_df['analysis_name']]"
   ]
  },
  {
   "cell_type": "code",
   "execution_count": 7,
   "id": "4d2f1649-3579-489e-b8dc-ff2c4be77d2d",
   "metadata": {
    "collapsed": true,
    "jupyter": {
     "outputs_hidden": true
    }
   },
   "outputs": [
    {
     "data": {
      "text/plain": [
       "Irrigation                                          762404\n",
       "Standard Drinking Water Analysis (WHO)              181124\n",
       "Standard Drinking Water Analysis                    121503\n",
       "Feacal Coliforms (MPN) and E.Coli                   101342\n",
       "Reverse Osmosis Water Use                            84045\n",
       "Basic Drinking Water Analysis                        62633\n",
       "Basic Drinking Water Analysis (WHO)                  47972\n",
       "Base Titanium Water Analysis                         47653\n",
       "Total Coliform and Faecal E.Coli                     31738\n",
       "Standard Drinking Water                              24881\n",
       "Total Coliforms and Faecal E.Coli                     9387\n",
       "Taita Water Analysis (Uni of Helsinki)                8256\n",
       "WRMA Water Analysis                                   5400\n",
       "Heavy Metal Analysis (Water)                          4575\n",
       "Feacal Coliform (MPN) and E.Coli                      3219\n",
       "Heavy Metals in Water                                 2671\n",
       "Water Borne Diseases                                  2419\n",
       "Total Dissolved Solids                                1861\n",
       "Water Colour Analysis                                 1190\n",
       "Faecal Coliforms and Faecal E.Coli                    1144\n",
       "Post Harvest Water Analysis                           1123\n",
       "E coli & Total Coliforms                               983\n",
       "Standard Drinking Water + Free Chlorine Analysis       978\n",
       "Turbidity                                              950\n",
       "Total Suspended Solids (Calculated)                    950\n",
       "BT Extended Water Quality Analysis                     922\n",
       "KEBS Drinking Water Standard Analysis                  902\n",
       "Aquasearch Full Chemical Analysis                      622\n",
       "Total Suspended Solids                                 595\n",
       "KEBS Drinking Water Microbiology                       336\n",
       "Alkalinity in Water                                    240\n",
       "Total Bacterial Count                                  231\n",
       "Arsenic in Water                                       198\n",
       "Total Bacteria Count                                   186\n",
       "KEBS Drinking Water Minimum Monitoring                 104\n",
       "EAS 122018 Drinking Water Standard Analysis(SG)        104\n",
       "Total Chlorine                                          62\n",
       "Turbidity Analysis                                      62\n",
       "Free Chlorine                                           62\n",
       "Iodine in Water                                         39\n",
       "Total coliforms                                         33\n",
       "Water Microbiology (KEBS)                                7\n",
       "Name: analysis_name, dtype: int64"
      ]
     },
     "execution_count": 7,
     "metadata": {},
     "output_type": "execute_result"
    }
   ],
   "source": [
    "water_df['analysis_name'].value_counts()"
   ]
  },
  {
   "cell_type": "code",
   "execution_count": 19,
   "id": "c132f089-4833-4543-8f25-263c82244b98",
   "metadata": {
    "scrolled": true
   },
   "outputs": [
    {
     "name": "stdout",
     "output_type": "stream",
     "text": [
      "Alkalinity in Water\n",
      "120\n",
      "116\n"
     ]
    },
    {
     "data": {
      "text/plain": [
       "<Figure size 640x480 with 0 Axes>"
      ]
     },
     "metadata": {},
     "output_type": "display_data"
    }
   ],
   "source": [
    "for analysis in np.unique(water_df['analysis_name']):\n",
    "    print(analysis)\n",
    "    df_ = water_df.loc[water_df['analysis_name']==analysis]\n",
    "    df_ = pd.pivot_table(data=df_, values=\"result\", index=\"sample_code\", columns=\"chemical_name\")\n",
    "    print(len(df_))\n",
    "\n",
    "    os.makedirs(f\"output/boxplots/{analysis}\",exist_ok=True)\n",
    "    for column in df_.columns:\n",
    "        plt.boxplot(df_[column])\n",
    "        plt.savefig(f\"output/boxplots/{analysis}/{column}.png\")\n",
    "        plt.clf()\n",
    "        outlier_threshold = df_[column].quantile(0.99)\n",
    "        df_ = df_.loc[df_[column] <= outlier_threshold]\n",
    "    df_.describe().to_csv(f\"output/chemical_null_count/{analysis}.csv\")\n",
    "    print(len(df_))\n",
    "    if(len(df_) == 0):\n",
    "        continue\n",
    "    \n",
    "    df_.to_csv(f\"output/analysis/{analysis}.csv\")\n",
    "    break"
   ]
  },
  {
   "cell_type": "code",
   "execution_count": 20,
   "id": "4a5156f9-a586-4de5-8827-e56e07ff3fa0",
   "metadata": {},
   "outputs": [
    {
     "data": {
      "text/html": [
       "<div>\n",
       "<style scoped>\n",
       "    .dataframe tbody tr th:only-of-type {\n",
       "        vertical-align: middle;\n",
       "    }\n",
       "\n",
       "    .dataframe tbody tr th {\n",
       "        vertical-align: top;\n",
       "    }\n",
       "\n",
       "    .dataframe thead th {\n",
       "        text-align: right;\n",
       "    }\n",
       "</style>\n",
       "<table border=\"1\" class=\"dataframe\">\n",
       "  <thead>\n",
       "    <tr style=\"text-align: right;\">\n",
       "      <th>chemical_name</th>\n",
       "      <th>calcium</th>\n",
       "      <th>magnesium</th>\n",
       "    </tr>\n",
       "    <tr>\n",
       "      <th>sample_code</th>\n",
       "      <th></th>\n",
       "      <th></th>\n",
       "    </tr>\n",
       "  </thead>\n",
       "  <tbody>\n",
       "    <tr>\n",
       "      <th>CH152WA0001</th>\n",
       "      <td>1.37</td>\n",
       "      <td>0.40</td>\n",
       "    </tr>\n",
       "    <tr>\n",
       "      <th>CH152WA0002</th>\n",
       "      <td>2.37</td>\n",
       "      <td>0.46</td>\n",
       "    </tr>\n",
       "    <tr>\n",
       "      <th>CH152WA0003</th>\n",
       "      <td>7.98</td>\n",
       "      <td>0.61</td>\n",
       "    </tr>\n",
       "    <tr>\n",
       "      <th>CH152WA0004</th>\n",
       "      <td>2.63</td>\n",
       "      <td>0.30</td>\n",
       "    </tr>\n",
       "    <tr>\n",
       "      <th>CH152WA0005</th>\n",
       "      <td>7.85</td>\n",
       "      <td>2.25</td>\n",
       "    </tr>\n",
       "    <tr>\n",
       "      <th>...</th>\n",
       "      <td>...</td>\n",
       "      <td>...</td>\n",
       "    </tr>\n",
       "    <tr>\n",
       "      <th>CT248WA0024</th>\n",
       "      <td>39.30</td>\n",
       "      <td>9.18</td>\n",
       "    </tr>\n",
       "    <tr>\n",
       "      <th>CT248WA0026</th>\n",
       "      <td>4.93</td>\n",
       "      <td>2.22</td>\n",
       "    </tr>\n",
       "    <tr>\n",
       "      <th>CT248WA0028</th>\n",
       "      <td>17.40</td>\n",
       "      <td>4.90</td>\n",
       "    </tr>\n",
       "    <tr>\n",
       "      <th>CT248WA0029</th>\n",
       "      <td>14.60</td>\n",
       "      <td>5.98</td>\n",
       "    </tr>\n",
       "    <tr>\n",
       "      <th>CT248WA0030</th>\n",
       "      <td>1.41</td>\n",
       "      <td>0.28</td>\n",
       "    </tr>\n",
       "  </tbody>\n",
       "</table>\n",
       "<p>116 rows × 2 columns</p>\n",
       "</div>"
      ],
      "text/plain": [
       "chemical_name  calcium  magnesium\n",
       "sample_code                      \n",
       "CH152WA0001       1.37       0.40\n",
       "CH152WA0002       2.37       0.46\n",
       "CH152WA0003       7.98       0.61\n",
       "CH152WA0004       2.63       0.30\n",
       "CH152WA0005       7.85       2.25\n",
       "...                ...        ...\n",
       "CT248WA0024      39.30       9.18\n",
       "CT248WA0026       4.93       2.22\n",
       "CT248WA0028      17.40       4.90\n",
       "CT248WA0029      14.60       5.98\n",
       "CT248WA0030       1.41       0.28\n",
       "\n",
       "[116 rows x 2 columns]"
      ]
     },
     "execution_count": 20,
     "metadata": {},
     "output_type": "execute_result"
    }
   ],
   "source": [
    "df_"
   ]
  },
  {
   "cell_type": "code",
   "execution_count": 22,
   "id": "24b7cc9e-6f3d-40dc-919d-9d8c1cfbaeaf",
   "metadata": {
    "scrolled": true
   },
   "outputs": [
    {
     "name": "stdout",
     "output_type": "stream",
     "text": [
      "Alkalinity in Water.csv\n",
      "[0.9010519327172081]\n",
      "1\n"
     ]
    }
   ],
   "source": [
    "for analysis_file in os.listdir(\"output/analysis\"):\n",
    "    print(analysis_file)\n",
    "    analysis_df = pd.read_csv(f\"output/analysis/{analysis_file}\",index_col=0)\n",
    "    analysis_df = analysis_df.dropna()\n",
    "    if(len(analysis_df) == 0):\n",
    "        continue\n",
    "    sc = StandardScaler()\n",
    "    pca = PCA()\n",
    "    analysis_scaled = sc.fit_transform(analysis_df)\n",
    "    pca.fit(analysis_scaled)\n",
    "    pca_explained_variance_df = pd.DataFrame(zip(analysis_df.columns,pca.explained_variance_ratio_))\n",
    "    pca_explained_variance_df.to_csv(f\"output/pca_explained_variance_ratio/{analysis_file}\")\n",
    "    pca_explained_variance_df = pca_explained_variance_df.loc[pca_explained_variance_df['1']>0.1]\n",
    "    print(pca_explained_variance_df)\n",
    "    print([ i for i in pca.explained_variance_ratio_ if i > 0.1])\n",
    "    n_components = len([ i for i in pca.explained_variance_ratio_ if i > 0.1])\n",
    "    print(n_components)\n",
    "    pca = PCA(n_components=n_components)\n",
    "    pca_reduced_df = pca.fit_transform(analysis_scaled)\n",
    "    analysis_scaled = pd.DataFrame(analysis_scaled,index=analysis_df.index)\n",
    "    pca_reduced_df = pd.DataFrame(pca_reduced_df,index=analysis_df.index)\n",
    "    analysis_scaled.to_csv(f\"output/analysis_scaled/{analysis_file}\")\n",
    "    pca_reduced_df.to_csv(f\"output/pca/{analysis_file}\")\n",
    "    pickle.dump(sc, open(f\"models/scalers/{analysis_file.replace('csv','pkl')}\",\"wb\"))\n",
    "    pickle.dump(pca, open(f\"models/pca/{analysis_file.replace('csv','pkl')}\",\"wb\"))"
   ]
  },
  {
   "cell_type": "code",
   "execution_count": 40,
   "id": "84978ffe-2747-428f-84a6-e54f00aa184d",
   "metadata": {
    "scrolled": true
   },
   "outputs": [
    {
     "name": "stdout",
     "output_type": "stream",
     "text": [
      "Alkalinity in Water.csv\n",
      "Aquasearch Full Chemical Analysis.csv\n",
      "0   -3.700743e-17\n",
      "1   -1.295260e-16\n",
      "dtype: float64\n",
      "[[ 3.16622165e+00 -6.53279231e-16]\n",
      " [-6.53279231e-16  1.46198355e+00]]\n",
      "Base Titanium Water Analysis.csv\n",
      "0    8.940217e-17\n",
      "1   -1.168656e-16\n",
      "2   -7.713128e-17\n",
      "dtype: float64\n",
      "[[ 6.97856154e+00 -1.70168910e-16 -5.12884788e-16]\n",
      " [-1.70168910e-16  3.55725671e+00 -1.39014149e-15]\n",
      " [-5.12884788e-16 -1.39014149e-15  3.00077546e+00]]\n",
      "BT Extended Water Quality Analysis.csv\n",
      "E coli & Total Coliforms.csv\n",
      "0    1.930823e-17\n",
      "1    5.309762e-17\n",
      "dtype: float64\n",
      "[[1.66570922e+00 9.92242921e-17]\n",
      " [9.92242921e-17 3.39740376e-01]]\n",
      "EAS 122018 Drinking Water Standard Analysis(SG).csv\n",
      "0   -1.009294e-17\n",
      "1    6.308085e-17\n",
      "dtype: float64\n",
      "[[1.44333684e+00 1.17314864e-17]\n",
      " [1.17314864e-17 6.03174788e-01]]\n",
      "Faecal Coliforms and Faecal E.Coli.csv\n",
      "0    1.356939e-16\n",
      "1    1.480297e-16\n",
      "2   -1.480297e-16\n",
      "dtype: float64\n",
      "[[ 8.85989720e+00 -4.36441666e-16 -2.54988372e-16]\n",
      " [-4.36441666e-16  5.01627608e+00 -4.90095092e-16]\n",
      " [-2.54988372e-16 -4.90095092e-16  3.03897194e+00]]\n",
      "Feacal Coliform (MPN) and E.Coli.csv\n",
      "0    6.275174e-17\n",
      "1   -6.033821e-18\n",
      "2    4.374520e-17\n",
      "dtype: float64\n",
      "[[ 6.62332975e+00  7.49952418e-16 -8.24273470e-17]\n",
      " [ 7.49952418e-16  2.95157462e+00  3.04506220e-17]\n",
      " [-8.24273470e-17  3.04506220e-17  2.45201047e+00]]\n",
      "Free Chlorine.csv\n",
      "Iodine in Water.csv\n",
      "KEBS Drinking Water Microbiology.csv\n",
      "Post Harvest Water Analysis.csv\n",
      "Standard Drinking Water + Free Chlorine Analysis.csv\n",
      "0    4.037175e-17\n",
      "1    3.027881e-17\n",
      "dtype: float64\n",
      "[[2.79887348e+00 6.57763943e-16]\n",
      " [6.57763943e-16 1.21412357e+00]]\n",
      "Standard Drinking Water.csv\n",
      "0   -1.384794e-16\n",
      "1   -3.820122e-17\n",
      "dtype: float64\n",
      "[[6.77958506e+00 6.50474715e-16]\n",
      " [6.50474715e-16 3.03204422e+00]]\n",
      "Taita Water Analysis (Uni of Helsinki).csv\n",
      "0    6.488975e-17\n",
      "1    1.297795e-16\n",
      "dtype: float64\n",
      "[[6.53055047e+00 3.08931624e-16]\n",
      " [3.08931624e-16 3.12573767e+00]]\n",
      "Total Bacterial Count.csv\n",
      "Total Chlorine.csv\n",
      "Total Coliforms and Faecal E.Coli.csv\n",
      "0    8.167158e-17\n",
      "1    3.062684e-17\n",
      "dtype: float64\n",
      "[[6.01461813e+00 2.20124911e-16]\n",
      " [2.20124911e-16 2.58701211e+00]]\n",
      "Total coliforms.csv\n",
      "Total Suspended Solids (Calculated).csv\n",
      "0   -3.172066e-17\n",
      "1    0.000000e+00\n",
      "2   -1.268826e-16\n",
      "dtype: float64\n",
      "[[9.85975316e+00 5.21069083e-16 8.13665160e-17]\n",
      " [5.21069083e-16 5.33230347e+00 7.46613216e-17]\n",
      " [8.13665160e-17 7.46613216e-17 3.33107944e+00]]\n",
      "Total Suspended Solids.csv\n",
      "Turbidity Analysis.csv\n",
      "Turbidity.csv\n",
      "0   -3.172066e-17\n",
      "1    0.000000e+00\n",
      "2   -1.268826e-16\n",
      "dtype: float64\n",
      "[[9.85975316e+00 5.21069083e-16 8.13665160e-17]\n",
      " [5.21069083e-16 5.33230347e+00 7.46613216e-17]\n",
      " [8.13665160e-17 7.46613216e-17 3.33107944e+00]]\n",
      "Water Colour Analysis.csv\n",
      "0   -3.172066e-17\n",
      "1    0.000000e+00\n",
      "2   -1.268826e-16\n",
      "dtype: float64\n",
      "[[9.85975316e+00 5.21069083e-16 8.13665160e-17]\n",
      " [5.21069083e-16 5.33230347e+00 7.46613216e-17]\n",
      " [8.13665160e-17 7.46613216e-17 3.33107944e+00]]\n",
      "Water Microbiology (KEBS).csv\n",
      "WRMA Water Analysis.csv\n",
      "0    7.250436e-17\n",
      "1    1.359457e-17\n",
      "2    2.718914e-17\n",
      "dtype: float64\n",
      "[[ 4.07662226e+00 -1.10851936e-15 -1.99896933e-16]\n",
      " [-1.10851936e-15  1.95463722e+00 -7.99587733e-16]\n",
      " [-1.99896933e-16 -7.99587733e-16  1.81278422e+00]]\n"
     ]
    }
   ],
   "source": [
    "for analysis_file in os.listdir(\"output/pca\"):\n",
    "    print(analysis_file)\n",
    "    pca_reduced_df = pd.read_csv(f\"output/pca/{analysis_file}\",index_col=0)\n",
    "    if len(pca_reduced_df.columns) < 2:\n",
    "        continue\n",
    "    mu = np.mean(pca_reduced_df, axis=0)\n",
    "    sigma = np.cov(pca_reduced_df.T)\n",
    "\n",
    "    try:\n",
    "        pca_reduced_df['mahalanobis_distance'] = [distance.mahalanobis(pca_reduced_df.iloc[i], mu, np.linalg.inv(sigma)) for i in range(len(pca_reduced_df)) ]\n",
    "    except:\n",
    "        continue\n",
    "    pca_reduced_df.to_csv(f\"output/mahalanobis_distance/{analysis_file}\")"
   ]
  },
  {
   "cell_type": "code",
   "execution_count": 13,
   "id": "0b95729c-3b43-49e2-9dc4-7ac7d3d13b2c",
   "metadata": {},
   "outputs": [
    {
     "data": {
      "text/html": [
       "<div>\n",
       "<style scoped>\n",
       "    .dataframe tbody tr th:only-of-type {\n",
       "        vertical-align: middle;\n",
       "    }\n",
       "\n",
       "    .dataframe tbody tr th {\n",
       "        vertical-align: top;\n",
       "    }\n",
       "\n",
       "    .dataframe thead th {\n",
       "        text-align: right;\n",
       "    }\n",
       "</style>\n",
       "<table border=\"1\" class=\"dataframe\">\n",
       "  <thead>\n",
       "    <tr style=\"text-align: right;\">\n",
       "      <th></th>\n",
       "      <th>0</th>\n",
       "    </tr>\n",
       "    <tr>\n",
       "      <th>sample_code</th>\n",
       "      <th></th>\n",
       "    </tr>\n",
       "  </thead>\n",
       "  <tbody>\n",
       "    <tr>\n",
       "      <th>CH152WA0001</th>\n",
       "      <td>-0.953822</td>\n",
       "    </tr>\n",
       "    <tr>\n",
       "      <th>CH152WA0002</th>\n",
       "      <td>-0.934108</td>\n",
       "    </tr>\n",
       "    <tr>\n",
       "      <th>CH152WA0003</th>\n",
       "      <td>-0.829962</td>\n",
       "    </tr>\n",
       "    <tr>\n",
       "      <th>CH152WA0004</th>\n",
       "      <td>-0.935051</td>\n",
       "    </tr>\n",
       "    <tr>\n",
       "      <th>CH152WA0005</th>\n",
       "      <td>-0.775575</td>\n",
       "    </tr>\n",
       "    <tr>\n",
       "      <th>...</th>\n",
       "      <td>...</td>\n",
       "    </tr>\n",
       "    <tr>\n",
       "      <th>CT248WA0024</th>\n",
       "      <td>0.018716</td>\n",
       "    </tr>\n",
       "    <tr>\n",
       "      <th>CT248WA0026</th>\n",
       "      <td>-0.828122</td>\n",
       "    </tr>\n",
       "    <tr>\n",
       "      <th>CT248WA0028</th>\n",
       "      <td>-0.515525</td>\n",
       "    </tr>\n",
       "    <tr>\n",
       "      <th>CT248WA0029</th>\n",
       "      <td>-0.527592</td>\n",
       "    </tr>\n",
       "    <tr>\n",
       "      <th>CT248WA0030</th>\n",
       "      <td>-0.957263</td>\n",
       "    </tr>\n",
       "  </tbody>\n",
       "</table>\n",
       "<p>116 rows × 1 columns</p>\n",
       "</div>"
      ],
      "text/plain": [
       "                    0\n",
       "sample_code          \n",
       "CH152WA0001 -0.953822\n",
       "CH152WA0002 -0.934108\n",
       "CH152WA0003 -0.829962\n",
       "CH152WA0004 -0.935051\n",
       "CH152WA0005 -0.775575\n",
       "...               ...\n",
       "CT248WA0024  0.018716\n",
       "CT248WA0026 -0.828122\n",
       "CT248WA0028 -0.515525\n",
       "CT248WA0029 -0.527592\n",
       "CT248WA0030 -0.957263\n",
       "\n",
       "[116 rows x 1 columns]"
      ]
     },
     "execution_count": 13,
     "metadata": {},
     "output_type": "execute_result"
    }
   ],
   "source": [
    "pca_reduced_df"
   ]
  },
  {
   "cell_type": "code",
   "execution_count": 44,
   "id": "104fba04-dea1-4444-9f7e-3fbedf4a9947",
   "metadata": {},
   "outputs": [
    {
     "name": "stdout",
     "output_type": "stream",
     "text": [
      "Aquasearch Full Chemical Analysis.csv\n",
      "Base Titanium Water Analysis.csv\n",
      "E coli & Total Coliforms.csv\n",
      "EAS 122018 Drinking Water Standard Analysis(SG).csv\n",
      "Faecal Coliforms and Faecal E.Coli.csv\n",
      "Feacal Coliform (MPN) and E.Coli.csv\n",
      "Standard Drinking Water + Free Chlorine Analysis.csv\n",
      "Standard Drinking Water.csv\n",
      "Taita Water Analysis (Uni of Helsinki).csv\n",
      "Total Coliforms and Faecal E.Coli.csv\n",
      "Total Suspended Solids (Calculated).csv\n",
      "Turbidity.csv\n",
      "Water Colour Analysis.csv\n",
      "WRMA Water Analysis.csv\n"
     ]
    },
    {
     "data": {
      "text/plain": [
       "<Figure size 640x480 with 0 Axes>"
      ]
     },
     "metadata": {},
     "output_type": "display_data"
    }
   ],
   "source": [
    "mahalanobis_threshold_dict = {}\n",
    "for analysis_file in os.listdir(\"output/mahalanobis_distance\"):\n",
    "    print(analysis_file)\n",
    "    analysis = analysis_file.replace(\".csv\",\"\")\n",
    "    mahalanobis_df = pd.read_csv(f\"output/mahalanobis_distance/{analysis_file}\",index_col=0)\n",
    "    upper_quantile = (mahalanobis_df['mahalanobis_distance'].quantile(0.95))\n",
    "    mahalanobis_threshold_dict[analysis_file.replace(\".csv\",\"\")] = upper_quantile\n",
    "    mahalanobis_df.loc[mahalanobis_df['mahalanobis_distance'] >= upper_quantile].to_csv(f\"output/mahanobis_distance_upper_quantile/{analysis_file}\")\n",
    "    plt.boxplot(mahalanobis_df['mahalanobis_distance'])\n",
    "    plt.savefig(f\"output/mahalanobis_boxplots/{analysis}.png\")\n",
    "    plt.clf()\n",
    "pickle.dump(mahalanobis_threshold_dict, open(\"mahalanobis_thresholds.dict\",\"wb\"))"
   ]
  },
  {
   "cell_type": "code",
   "execution_count": 42,
   "id": "b96b3867-d871-47e6-815b-d50d15673cf1",
   "metadata": {},
   "outputs": [
    {
     "data": {
      "text/plain": [
       "{'Aquasearch Full Chemical Analysis': 1.8113237681715342,\n",
       " 'Base Titanium Water Analysis': 2.9378947171123944,\n",
       " 'E coli & Total Coliforms': 2.3326288306672254,\n",
       " 'EAS 122018 Drinking Water Standard Analysis(SG)': 2.147653594609786,\n",
       " 'Faecal Coliforms and Faecal E.Coli': 2.450020082834289,\n",
       " 'Feacal Coliform (MPN) and E.Coli': 3.1801159251369375,\n",
       " 'Standard Drinking Water + Free Chlorine Analysis': 2.5263932579595076,\n",
       " 'Standard Drinking Water': 2.548448122482619,\n",
       " 'Taita Water Analysis (Uni of Helsinki)': 2.3345469867079327,\n",
       " 'Total Coliforms and Faecal E.Coli': 2.70237718592308,\n",
       " 'Total Suspended Solids (Calculated)': 3.1438634766539,\n",
       " 'Turbidity': 3.1438634766539,\n",
       " 'Water Colour Analysis': 3.1438634766539,\n",
       " 'WRMA Water Analysis': 3.631719882852156}"
      ]
     },
     "execution_count": 42,
     "metadata": {},
     "output_type": "execute_result"
    }
   ],
   "source": [
    "mahalanobis_threshold_dict"
   ]
  },
  {
   "cell_type": "code",
   "execution_count": 102,
   "id": "644a3518-2db4-422e-ba69-00525098ce03",
   "metadata": {},
   "outputs": [],
   "source": [
    "water_ = water_df.loc[water_df['analysis_name'] == 'Total Coliforms and Faecal E.Coli']"
   ]
  },
  {
   "cell_type": "code",
   "execution_count": 103,
   "id": "a3ff7934-aa3e-4a7b-8c35-d7a3a8447964",
   "metadata": {},
   "outputs": [],
   "source": [
    "water_ = water_.sort_values(by=\"sample_code\")"
   ]
  },
  {
   "cell_type": "code",
   "execution_count": 105,
   "id": "e62218d8-1863-41f5-816f-4f718a6cdf13",
   "metadata": {},
   "outputs": [],
   "source": [
    "water_ = water_.loc[water_['sample_code'] == 'CA002WA0156']"
   ]
  },
  {
   "cell_type": "code",
   "execution_count": 119,
   "id": "f4f4cb42-0d57-4667-a4dc-a8c5e2e8e786",
   "metadata": {},
   "outputs": [],
   "source": [
    "water_pivot = pd.pivot_table(data = water_, columns = \"chemical_name\", values = \"result\", index=\"sample_code\").reset_index()"
   ]
  },
  {
   "cell_type": "code",
   "execution_count": 125,
   "id": "a035a39f-8539-45a0-b371-2d4c61b6361c",
   "metadata": {},
   "outputs": [],
   "source": [
    "water_pivot['analysis_id'] = 570"
   ]
  },
  {
   "cell_type": "code",
   "execution_count": 128,
   "id": "3ed3df94-61d1-4c22-bc1b-ccabd34ef896",
   "metadata": {},
   "outputs": [],
   "source": [
    "req = water_pivot.to_dict(orient=\"records\")"
   ]
  },
  {
   "cell_type": "code",
   "execution_count": 129,
   "id": "db368198-bcae-475c-bd54-84b0c3882f01",
   "metadata": {},
   "outputs": [
    {
     "data": {
      "text/plain": [
       "[{'sample_code': 'CA002WA0156',\n",
       "  'ammonium': 0.01,\n",
       "  'bicarbonate': 130.0,\n",
       "  'boron': 0.035,\n",
       "  'calcium': 1.62,\n",
       "  'chlorides': 9.12,\n",
       "  'copper': 0.01,\n",
       "  'electrical_conductivity': 0.28,\n",
       "  'iron': 1.39,\n",
       "  'magnesium': 0.32,\n",
       "  'manganese': 0.21,\n",
       "  'molybdenum': 0.025,\n",
       "  'nitrate_n': 0.01,\n",
       "  'nitrates': 0.01,\n",
       "  'phosphorus': 0.028,\n",
       "  'potassium': 7.19,\n",
       "  'silica': 72.5,\n",
       "  'silicon__': 33.9,\n",
       "  'sodium': 62.7,\n",
       "  'sulphate': 5.27,\n",
       "  'sulphur': 1.76,\n",
       "  'zinc': 1.83,\n",
       "  'analysis_id': 570}]"
      ]
     },
     "execution_count": 129,
     "metadata": {},
     "output_type": "execute_result"
    }
   ],
   "source": [
    "req"
   ]
  },
  {
   "cell_type": "code",
   "execution_count": 132,
   "id": "6a2963c0-7671-4429-9a8e-5f37016c73b7",
   "metadata": {},
   "outputs": [],
   "source": [
    "_ = pd.DataFrame(req)"
   ]
  },
  {
   "cell_type": "code",
   "execution_count": 133,
   "id": "9ccaea82-329a-46f0-b0e4-c65ffb293ec8",
   "metadata": {},
   "outputs": [
    {
     "data": {
      "text/html": [
       "<div>\n",
       "<style scoped>\n",
       "    .dataframe tbody tr th:only-of-type {\n",
       "        vertical-align: middle;\n",
       "    }\n",
       "\n",
       "    .dataframe tbody tr th {\n",
       "        vertical-align: top;\n",
       "    }\n",
       "\n",
       "    .dataframe thead th {\n",
       "        text-align: right;\n",
       "    }\n",
       "</style>\n",
       "<table border=\"1\" class=\"dataframe\">\n",
       "  <thead>\n",
       "    <tr style=\"text-align: right;\">\n",
       "      <th></th>\n",
       "      <th>sample_code</th>\n",
       "      <th>ammonium</th>\n",
       "      <th>bicarbonate</th>\n",
       "      <th>boron</th>\n",
       "      <th>calcium</th>\n",
       "      <th>chlorides</th>\n",
       "      <th>copper</th>\n",
       "      <th>electrical_conductivity</th>\n",
       "      <th>iron</th>\n",
       "      <th>magnesium</th>\n",
       "      <th>...</th>\n",
       "      <th>nitrates</th>\n",
       "      <th>phosphorus</th>\n",
       "      <th>potassium</th>\n",
       "      <th>silica</th>\n",
       "      <th>silicon__</th>\n",
       "      <th>sodium</th>\n",
       "      <th>sulphate</th>\n",
       "      <th>sulphur</th>\n",
       "      <th>zinc</th>\n",
       "      <th>analysis_id</th>\n",
       "    </tr>\n",
       "  </thead>\n",
       "  <tbody>\n",
       "    <tr>\n",
       "      <th>0</th>\n",
       "      <td>CA002WA0156</td>\n",
       "      <td>0.01</td>\n",
       "      <td>130.0</td>\n",
       "      <td>0.035</td>\n",
       "      <td>1.62</td>\n",
       "      <td>9.12</td>\n",
       "      <td>0.01</td>\n",
       "      <td>0.28</td>\n",
       "      <td>1.39</td>\n",
       "      <td>0.32</td>\n",
       "      <td>...</td>\n",
       "      <td>0.01</td>\n",
       "      <td>0.028</td>\n",
       "      <td>7.19</td>\n",
       "      <td>72.5</td>\n",
       "      <td>33.9</td>\n",
       "      <td>62.7</td>\n",
       "      <td>5.27</td>\n",
       "      <td>1.76</td>\n",
       "      <td>1.83</td>\n",
       "      <td>570</td>\n",
       "    </tr>\n",
       "  </tbody>\n",
       "</table>\n",
       "<p>1 rows × 23 columns</p>\n",
       "</div>"
      ],
      "text/plain": [
       "   sample_code  ammonium  bicarbonate  boron  calcium  chlorides  copper  \\\n",
       "0  CA002WA0156      0.01        130.0  0.035     1.62       9.12    0.01   \n",
       "\n",
       "   electrical_conductivity  iron  magnesium  ...  nitrates  phosphorus  \\\n",
       "0                     0.28  1.39       0.32  ...      0.01       0.028   \n",
       "\n",
       "   potassium  silica  silicon__  sodium  sulphate  sulphur  zinc  analysis_id  \n",
       "0       7.19    72.5       33.9    62.7      5.27     1.76  1.83          570  \n",
       "\n",
       "[1 rows x 23 columns]"
      ]
     },
     "execution_count": 133,
     "metadata": {},
     "output_type": "execute_result"
    }
   ],
   "source": [
    "_"
   ]
  },
  {
   "cell_type": "code",
   "execution_count": 134,
   "id": "01d81bed-938b-48ad-b71a-2a3c58d54356",
   "metadata": {},
   "outputs": [],
   "source": [
    "analysis_dict = pickle.load(open(\"analysis.dict\",\"rb\"))"
   ]
  },
  {
   "cell_type": "code",
   "execution_count": 165,
   "id": "07299edb-d334-4ceb-ba12-09216e14b740",
   "metadata": {},
   "outputs": [],
   "source": [
    "mahalanobis_thresholds = pickle.load(open(\"mahalanobis_thresholds.dict\",\"rb\"))"
   ]
  },
  {
   "cell_type": "code",
   "execution_count": 166,
   "id": "76e187c9-ab2a-4838-8575-7d59486f2740",
   "metadata": {},
   "outputs": [
    {
     "data": {
      "text/plain": [
       "{'Aquasearch Full Chemical Analysis': 1.8113237681715342,\n",
       " 'Base Titanium Water Analysis': 2.9378947171123944,\n",
       " 'E coli & Total Coliforms': 2.3326288306672254,\n",
       " 'EAS 122018 Drinking Water Standard Analysis(SG)': 2.147653594609786,\n",
       " 'Faecal Coliforms and Faecal E.Coli': 2.450020082834289,\n",
       " 'Feacal Coliform (MPN) and E.Coli': 3.1801159251369375,\n",
       " 'Standard Drinking Water + Free Chlorine Analysis': 2.5263932579595076,\n",
       " 'Standard Drinking Water': 2.548448122482619,\n",
       " 'Taita Water Analysis (Uni of Helsinki)': 2.3345469867079327,\n",
       " 'Total Coliforms and Faecal E.Coli': 2.70237718592308,\n",
       " 'Total Suspended Solids (Calculated)': 3.1438634766539,\n",
       " 'Turbidity': 3.1438634766539,\n",
       " 'Water Colour Analysis': 3.1438634766539,\n",
       " 'WRMA Water Analysis': 3.631719882852156}"
      ]
     },
     "execution_count": 166,
     "metadata": {},
     "output_type": "execute_result"
    }
   ],
   "source": [
    "mahalanobis_thresholds"
   ]
  },
  {
   "cell_type": "code",
   "execution_count": 135,
   "id": "aca5990e-992d-4a3c-b4b0-69c9ed533081",
   "metadata": {
    "scrolled": true
   },
   "outputs": [
    {
     "data": {
      "text/plain": [
       "{337: 'Total Suspended Solids',\n",
       " 459: 'E coli & Total Coliforms',\n",
       " 580: 'Total Suspended Solids',\n",
       " 26552: 'E Coli & Total Coliforms',\n",
       " 26585: 'Total Coliforms',\n",
       " 26762: 'Total Bacteria Count',\n",
       " 26773: 'Total Coliforms',\n",
       " 26845: 'Total coliforms',\n",
       " 49: 'Total Suspended Solids',\n",
       " 52: 'Standard Drinking Water Analysis',\n",
       " 154: 'Turbidity',\n",
       " 180: 'Total Bacterial Count',\n",
       " 184: 'Alkalinity in Water',\n",
       " 187: 'Turbidity Analysis',\n",
       " 216: 'Reverse Osmosis Water Use',\n",
       " 263: 'E coli & Total Coliforms',\n",
       " 269: 'Total Suspended Solids',\n",
       " 270: 'Total Dissolved Solids',\n",
       " 276: 'Heavy Metals in Water',\n",
       " 288: 'Basic Drinking Water Analysis (WHO)',\n",
       " 289: 'E Coli & Total Coliforms',\n",
       " 308: 'Water Colour Analysis',\n",
       " 315: 'Water Borne Diseases',\n",
       " 324: 'Reverse Osmosis Water Use',\n",
       " 371: 'Total Suspended Solids',\n",
       " 379: 'Total Bacteria Count',\n",
       " 555: 'Aquasearch Full Chemical Analysis',\n",
       " 570: 'Total Coliforms and Faecal E.Coli',\n",
       " 660: 'Iodine in Water',\n",
       " 707: 'Standard Drinking Water Analysis (WHO)',\n",
       " 719: 'Base Titanium Water Analysis',\n",
       " 743: 'BT Extended Water Quality Analysis',\n",
       " 744: 'Turbidity',\n",
       " 762: 'Arsenic in Water',\n",
       " 823: 'Taita Water Analysis (Uni of Helsinki)',\n",
       " 824: 'Taita Water Analysis (Uni of Helsinki)',\n",
       " 870: 'Water Borne Diseases',\n",
       " 879: 'Turbidity Analysis',\n",
       " 897: 'Feacal Coliforms (MPN) and E.Coli',\n",
       " 902: 'Post Harvest Water Analysis',\n",
       " 906: 'Total Bacterial Count',\n",
       " 940: 'Total Suspended Solids',\n",
       " 26544: 'Total Coliforms',\n",
       " 26579: 'Arsenic in Water',\n",
       " 26614: 'Total Bacteria Count',\n",
       " 26630: 'Free Chlorine',\n",
       " 26680: 'Total Chlorine',\n",
       " 26682: 'Total Coliforms',\n",
       " 26685: 'Heavy Metals in Water',\n",
       " 26691: 'Standard Drinking Water + Free Chlorine Analysis',\n",
       " 26724: 'KEBS Drinking Water Microbiology',\n",
       " 26761: 'Total Coliforms',\n",
       " 26784: 'Total Dissolved Solids',\n",
       " 26792: 'Total Coliforms',\n",
       " 26805: 'E coli & Total Coliforms',\n",
       " 26806: 'Total Bacteria Count',\n",
       " 26860: 'KEBS Drinking Water Standard Analysis',\n",
       " 26869: 'Total coliforms',\n",
       " 26873: 'KEBS Drinking Water Minimum Monitoring',\n",
       " 26892: 'Total coliforms',\n",
       " 26902: 'Free Chlorine',\n",
       " 26933: 'Total coliforms',\n",
       " 26937: 'Total Bacteria count',\n",
       " 26947: 'Total Coliforms',\n",
       " 26949: 'Total Bacteria Count',\n",
       " 26959: 'Total Suspended Solids',\n",
       " 26970: 'E coli & Total Coliforms',\n",
       " 26980: 'Total coliforms',\n",
       " 27010: 'Total Bacteria Count',\n",
       " 27028: 'Water Borne Diseases',\n",
       " 27032: 'KEBS Drinking Water Microbiology',\n",
       " 27038: 'E coli & Total Coliforms',\n",
       " 27056: 'WRMA Water Analysis',\n",
       " 27076: 'Total Bacterial Count',\n",
       " 27149: 'E coli & Total Coliforms',\n",
       " 27185: 'Total coliforms',\n",
       " 27359: 'EAS 12:2018 Drinking Water Standard Analysis(SG)',\n",
       " 27455: 'Total Dissolved Solids',\n",
       " 27457: 'Turbidity'}"
      ]
     },
     "execution_count": 135,
     "metadata": {},
     "output_type": "execute_result"
    }
   ],
   "source": [
    "analysis_dict"
   ]
  },
  {
   "cell_type": "code",
   "execution_count": 136,
   "id": "a57cd324-0d80-4ca4-93bd-548661af642f",
   "metadata": {
    "scrolled": true
   },
   "outputs": [],
   "source": [
    "_['analysis_name'] = [ analysis_dict[i] for i in _['analysis_id'] ]"
   ]
  },
  {
   "cell_type": "code",
   "execution_count": 137,
   "id": "3eb437a2-d670-4e82-b9e5-be7e27adc539",
   "metadata": {},
   "outputs": [
    {
     "data": {
      "text/html": [
       "<div>\n",
       "<style scoped>\n",
       "    .dataframe tbody tr th:only-of-type {\n",
       "        vertical-align: middle;\n",
       "    }\n",
       "\n",
       "    .dataframe tbody tr th {\n",
       "        vertical-align: top;\n",
       "    }\n",
       "\n",
       "    .dataframe thead th {\n",
       "        text-align: right;\n",
       "    }\n",
       "</style>\n",
       "<table border=\"1\" class=\"dataframe\">\n",
       "  <thead>\n",
       "    <tr style=\"text-align: right;\">\n",
       "      <th></th>\n",
       "      <th>sample_code</th>\n",
       "      <th>ammonium</th>\n",
       "      <th>bicarbonate</th>\n",
       "      <th>boron</th>\n",
       "      <th>calcium</th>\n",
       "      <th>chlorides</th>\n",
       "      <th>copper</th>\n",
       "      <th>electrical_conductivity</th>\n",
       "      <th>iron</th>\n",
       "      <th>magnesium</th>\n",
       "      <th>...</th>\n",
       "      <th>phosphorus</th>\n",
       "      <th>potassium</th>\n",
       "      <th>silica</th>\n",
       "      <th>silicon__</th>\n",
       "      <th>sodium</th>\n",
       "      <th>sulphate</th>\n",
       "      <th>sulphur</th>\n",
       "      <th>zinc</th>\n",
       "      <th>analysis_id</th>\n",
       "      <th>analysis_name</th>\n",
       "    </tr>\n",
       "  </thead>\n",
       "  <tbody>\n",
       "    <tr>\n",
       "      <th>0</th>\n",
       "      <td>CA002WA0156</td>\n",
       "      <td>0.01</td>\n",
       "      <td>130.0</td>\n",
       "      <td>0.035</td>\n",
       "      <td>1.62</td>\n",
       "      <td>9.12</td>\n",
       "      <td>0.01</td>\n",
       "      <td>0.28</td>\n",
       "      <td>1.39</td>\n",
       "      <td>0.32</td>\n",
       "      <td>...</td>\n",
       "      <td>0.028</td>\n",
       "      <td>7.19</td>\n",
       "      <td>72.5</td>\n",
       "      <td>33.9</td>\n",
       "      <td>62.7</td>\n",
       "      <td>5.27</td>\n",
       "      <td>1.76</td>\n",
       "      <td>1.83</td>\n",
       "      <td>570</td>\n",
       "      <td>Total Coliforms and Faecal E.Coli</td>\n",
       "    </tr>\n",
       "  </tbody>\n",
       "</table>\n",
       "<p>1 rows × 24 columns</p>\n",
       "</div>"
      ],
      "text/plain": [
       "   sample_code  ammonium  bicarbonate  boron  calcium  chlorides  copper  \\\n",
       "0  CA002WA0156      0.01        130.0  0.035     1.62       9.12    0.01   \n",
       "\n",
       "   electrical_conductivity  iron  magnesium  ...  phosphorus  potassium  \\\n",
       "0                     0.28  1.39       0.32  ...       0.028       7.19   \n",
       "\n",
       "   silica  silicon__  sodium  sulphate  sulphur  zinc  analysis_id  \\\n",
       "0    72.5       33.9    62.7      5.27     1.76  1.83          570   \n",
       "\n",
       "                       analysis_name  \n",
       "0  Total Coliforms and Faecal E.Coli  \n",
       "\n",
       "[1 rows x 24 columns]"
      ]
     },
     "execution_count": 137,
     "metadata": {},
     "output_type": "execute_result"
    }
   ],
   "source": [
    "_"
   ]
  },
  {
   "cell_type": "code",
   "execution_count": 169,
   "id": "a4e0653f-c0cb-4b0b-8ffa-d7ee7f840ed1",
   "metadata": {},
   "outputs": [
    {
     "name": "stdout",
     "output_type": "stream",
     "text": [
      "                        0         1\n",
      "sample_code                        \n",
      "CA002WA0156      0.455404 -1.684522\n",
      "CA019WA0022     -2.678104  0.078408\n",
      "CA053WA0032     -2.738159  0.564073\n",
      "CA053WA0033     -2.738219  0.674791\n",
      "CA053WA0034     -0.550419  0.261831\n",
      "...                   ...       ...\n",
      "CX001WA0056      1.959837 -2.315428\n",
      "CZ017WA0001     -2.170468  0.127508\n",
      "FA324-251WA0001  0.810630 -1.689447\n",
      "I48-1-77WA0003  -2.753695  0.052034\n",
      "I48-1-77WA0004  -2.760188 -0.004667\n",
      "\n",
      "[348 rows x 2 columns]\n",
      "1.0636497517330128\n",
      "2.70237718592308\n"
     ]
    }
   ],
   "source": [
    "result = []\n",
    "for index,row in _.iterrows():\n",
    "    scaler = pickle.load(open(f\"models/scalers/{analysis}.pkl\",\"rb\"))\n",
    "    pca = pickle.load(open(f\"models/pca/{analysis}.pkl\",\"rb\"))\n",
    "\n",
    "    pca_df = pd.read_csv(f\"output/pca_df/{analysis}.csv\",index_col=0)\n",
    "    print(pca_df)\n",
    "\n",
    "    sample_code = row['sample_code']\n",
    "    analysis = row['analysis_name']\n",
    "    analysis_id = row['analysis_id']\n",
    "    tmp_df = pd.DataFrame(row).T.drop([\"sample_code\",\"analysis_id\",\"analysis_name\"], axis=1)    \n",
    "\n",
    "    df_scaled = scaler.transform(tmp_df)\n",
    "    df_pca = pd.DataFrame(pca.transform(df_scaled))\n",
    "\n",
    "    mu = np.mean(pca_df, axis=0)\n",
    "    sigma = np.cov(pca_df.T)\n",
    "\n",
    "    mahalanobis_distance = distance.mahalanobis(df_pca.iloc[0], mu, np.linalg.inv(sigma))\n",
    "\n",
    "    print(mahalanobis_distance)\n",
    "\n",
    "    expected_md = mahalanobis_thresholds[analysis]\n",
    "    print(expected_md)\n",
    "\n",
    "    if mahalanobis_distance <= expected_md:\n",
    "        result.append({\"sample_code\": sample_code,\"is_outlier\":False})\n",
    "    else:\n",
    "        result.append({\"sample_code\": sample_code,\"is_outlier\":True})\n",
    "    "
   ]
  },
  {
   "cell_type": "code",
   "execution_count": 170,
   "id": "a2ef40f9-741a-4bad-baa4-4f3195cd4b7d",
   "metadata": {},
   "outputs": [
    {
     "data": {
      "text/plain": [
       "[{'sample_code': 'CA002WA0156', 'is_outlier': False}]"
      ]
     },
     "execution_count": 170,
     "metadata": {},
     "output_type": "execute_result"
    }
   ],
   "source": [
    "result"
   ]
  },
  {
   "cell_type": "code",
   "execution_count": null,
   "id": "90c6f303-0681-4e7b-a4cb-ddd36f80beb6",
   "metadata": {},
   "outputs": [],
   "source": []
  }
 ],
 "metadata": {
  "kernelspec": {
   "display_name": "Python 3 (ipykernel)",
   "language": "python",
   "name": "python3"
  },
  "language_info": {
   "codemirror_mode": {
    "name": "ipython",
    "version": 3
   },
   "file_extension": ".py",
   "mimetype": "text/x-python",
   "name": "python",
   "nbconvert_exporter": "python",
   "pygments_lexer": "ipython3",
   "version": "3.8.0"
  }
 },
 "nbformat": 4,
 "nbformat_minor": 5
}
