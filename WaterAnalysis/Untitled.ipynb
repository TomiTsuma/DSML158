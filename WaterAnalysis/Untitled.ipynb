{
 "cells": [
  {
   "cell_type": "code",
   "execution_count": 6,
   "id": "696470fd-1d39-4617-b247-d9c6e5aef85f",
   "metadata": {},
   "outputs": [],
   "source": [
    "import psycopg2\n",
    "\n",
    "import pandas as pd\n",
    "import numpy as np\n",
    "import mariadb\n",
    "# import dask.dataframe as dd\n",
    "import json\n",
    "import os\n",
    "import shutil\n",
    "import subprocess\n",
    "from pathlib import Path\n",
    "import pyodbc"
   ]
  },
  {
   "cell_type": "code",
   "execution_count": 24,
   "id": "c1e3c7e8-a40c-4661-a50f-25918818c34e",
   "metadata": {},
   "outputs": [],
   "source": [
    "conn_lims = pyodbc.connect(\"Driver={SQL Server};\"\n",
    "                            \"Server=192.168.5.18\\CROPNUT;\"\n",
    "                            \"Database=cropnuts;\"\n",
    "                            \"uid=thomasTsuma;pwd=GR^KX$uRe9#JwLc6\")"
   ]
  },
  {
   "cell_type": "code",
   "execution_count": 25,
   "id": "4ba255a5-1e88-46df-8954-651a36a52e75",
   "metadata": {},
   "outputs": [],
   "source": [
    "cursor = conn_lims.cursor()"
   ]
  },
  {
   "cell_type": "code",
   "execution_count": 26,
   "id": "8e9344d2-264d-47b5-ba6c-66c0aa867a6d",
   "metadata": {},
   "outputs": [],
   "source": [
    "sql = \"\"\"\n",
    "SELECT [dbo].[Calculate_Conversion] (2.3, 'K') \n",
    "\"\"\"\n",
    "\n",
    "# Parameters for the stored procedure\n",
    "params =  (2.3, 'K')"
   ]
  },
  {
   "cell_type": "code",
   "execution_count": 27,
   "id": "a1e4241e-c375-49e7-a991-118a90484c07",
   "metadata": {},
   "outputs": [
    {
     "data": {
      "text/plain": [
       "<pyodbc.Cursor at 0x17a6214d130>"
      ]
     },
     "execution_count": 27,
     "metadata": {},
     "output_type": "execute_result"
    }
   ],
   "source": [
    "cursor.execute(sql)"
   ]
  },
  {
   "cell_type": "code",
   "execution_count": 28,
   "id": "a1f54e52-36fb-4a73-9237-86313efe4659",
   "metadata": {},
   "outputs": [
    {
     "data": {
      "text/plain": [
       "0.0588235294117647"
      ]
     },
     "execution_count": 28,
     "metadata": {},
     "output_type": "execute_result"
    }
   ],
   "source": [
    "cursor.fetchone()[0]\n"
   ]
  },
  {
   "cell_type": "code",
   "execution_count": 1,
   "id": "fe67bf6c-e394-49d8-91f6-82ff37677d35",
   "metadata": {},
   "outputs": [],
   "source": [
    "import pandas as pd"
   ]
  },
  {
   "cell_type": "code",
   "execution_count": 2,
   "id": "c58518d0-f8e9-4095-a6df-39b5ed7a59f3",
   "metadata": {},
   "outputs": [],
   "source": [
    "df = pd.read_csv(\"test_results.csv\")"
   ]
  },
  {
   "cell_type": "code",
   "execution_count": 5,
   "id": "ccc447e9-2ca0-45f5-b005-965b9033e53a",
   "metadata": {},
   "outputs": [],
   "source": [
    "df.status.value_counts().to_csv(\"status_value_counts.csv\")"
   ]
  },
  {
   "cell_type": "code",
   "execution_count": null,
   "id": "20b047fb-98d6-4234-bbd4-8859a6af63c1",
   "metadata": {},
   "outputs": [],
   "source": []
  }
 ],
 "metadata": {
  "kernelspec": {
   "display_name": "Python 3 (ipykernel)",
   "language": "python",
   "name": "python3"
  },
  "language_info": {
   "codemirror_mode": {
    "name": "ipython",
    "version": 3
   },
   "file_extension": ".py",
   "mimetype": "text/x-python",
   "name": "python",
   "nbconvert_exporter": "python",
   "pygments_lexer": "ipython3",
   "version": "3.11.0"
  }
 },
 "nbformat": 4,
 "nbformat_minor": 5
}
