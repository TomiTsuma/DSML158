{
 "cells": [
  {
   "cell_type": "code",
   "execution_count": 7,
   "id": "f2a5dcd7-15d7-4d0e-be8a-c25fbe91faa4",
   "metadata": {},
   "outputs": [],
   "source": [
    "import psycopg2\n",
    "import pandas as pd\n",
    "import numpy as np\n",
    "import mariadb\n",
    "import json\n",
    "import os\n",
    "import shutil\n",
    "import subprocess\n",
    "from pathlib import Path\n",
    "import pyodbc\n",
    "from sklearn.decomposition import PCA\n",
    "from sklearn.preprocessing import StandardScaler\n",
    "from scipy.spatial import distance\n",
    "import pickle\n",
    "import matplotlib.pyplot as plt\n",
    "from sklearn.impute import SimpleImputer\n",
    "import seaborn as sns"
   ]
  },
  {
   "cell_type": "code",
   "execution_count": 5,
   "id": "2c9220f1-f2ed-495b-b3bc-5e06cd8474ff",
   "metadata": {
    "scrolled": true
   },
   "outputs": [],
   "source": [
    "soil_df = pd.read_csv(\"input/soil_analysis_cleaned.csv\")"
   ]
  },
  {
   "cell_type": "code",
   "execution_count": 6,
   "id": "9789a424-750a-46aa-b1e3-408978207815",
   "metadata": {},
   "outputs": [],
   "source": [
    "new_samples_df = soil_df.loc[soil_df['batch_date'] > '2024-05-21'] \n",
    "soil_df = soil_df.loc[soil_df['batch_date'] <= '2024-05-21'] "
   ]
  },
  {
   "cell_type": "code",
   "execution_count": null,
   "id": "298aed82-0472-436c-82ae-5cecdb0a41ac",
   "metadata": {},
   "outputs": [],
   "source": [
    "for analysis in np.unique(water_df['analysis_name']):\n",
    "    print(analysis)\n",
    "    df_ = water_df.loc[water_df['analysis_name']==analysis]\n",
    "    df_ = pd.pivot_table(data=df_, values=\"result\", index=\"sample_code\", columns=\"chemical_name\")\n",
    "    print(len(df_))\n",
    "\n",
    "    os.makedirs(f\"output/boxplots/{analysis}\",exist_ok=True)\n",
    "    for column in df_.columns:\n",
    "        plt.boxplot(df_[column])\n",
    "        plt.savefig(f\"output/boxplots/{analysis}/{column}.png\")\n",
    "        plt.clf()\n",
    "        outlier_threshold = df_[column].quantile(0.99)\n",
    "        # df_ = df_.loc[df_[column] <= outlier_threshold]\n",
    "    df_.describe().to_csv(f\"output/chemical_null_count/{analysis}.csv\")\n",
    "    print(len(df_))\n",
    "    if(len(df_) == 0):\n",
    "        continue\n",
    "    \n",
    "    df_.to_csv(f\"output/analysis/{analysis}.csv\")\n",
    "    "
   ]
  },
  {
   "cell_type": "code",
   "execution_count": null,
   "id": "fa26e52d-06fa-468d-9a32-8d49beaa33d5",
   "metadata": {},
   "outputs": [],
   "source": [
    "# for analysis_file in os.listdir(\"output/analysis\"):\n",
    "#     os.makedirs(\"./output/pairplots\",exist_ok=True)\n",
    "#     analysis_df = pd.read_csv(f\"output/analysis/{analysis_file}\",index_col=0)\n",
    "#     print(analysis_file.replace('.csv',''))\n",
    "#     sns.pairplot(analysis_df)\n",
    "#     print('Saving')\n",
    "#     plt.savefig(f\"output/pairplots/{analysis_file.replace('.csv','')}.png\")\n",
    "#     print('Saved')\n",
    "#     plt.clf()"
   ]
  },
  {
   "cell_type": "code",
   "execution_count": null,
   "id": "99f83a8d-ebcd-45ba-8dfd-e904c44a4b78",
   "metadata": {},
   "outputs": [],
   "source": [
    "for analysis_file in os.listdir(\"output/analysis\"):\n",
    "    print(analysis_file)\n",
    "    analysis_df = pd.read_csv(f\"output/analysis/{analysis_file}\",index_col=0)\n",
    "    print(len(analysis_df.columns))\n",
    "    imp_mean = SimpleImputer(missing_values=np.nan, strategy='mean')\n",
    "    analysis_df = pd.DataFrame(imp_mean.fit_transform(analysis_df), columns=analysis_df.columns, index=analysis_df.index)\n",
    "    pickle.dump(imp_mean, open(f\"models/imputers/{analysis_file.replace('csv','pkl')}\",\"wb\"))\n",
    "    # if(len(analysis_df) == 0):\n",
    "    #     continue\n",
    "    sc = StandardScaler()\n",
    "    pca = PCA()\n",
    "    analysis_scaled = sc.fit_transform(analysis_df)\n",
    "    pca.fit(analysis_scaled)\n",
    "    pca_explained_variance_df = pd.DataFrame(zip(analysis_df.columns,pca.explained_variance_ratio_))\n",
    "    pca_explained_variance_df.to_csv(f\"output/pca_explained_variance_ratio/{analysis_file}\")\n",
    "    pca_explained_variance_df = pca_explained_variance_df.loc[pca_explained_variance_df[1]>0.1]\n",
    "    n_components = len(pca_explained_variance_df)\n",
    "    \n",
    "    pca_chems = pca_explained_variance_df[0]\n",
    "    \n",
    "    pca = PCA(n_components=n_components)\n",
    "    analysis_scaled = sc.fit_transform(analysis_df)\n",
    "    pca_reduced_df = pca.fit_transform(analysis_scaled)\n",
    "    analysis_scaled = pd.DataFrame(analysis_scaled,index=analysis_df.index)\n",
    "    pca_reduced_df = pd.DataFrame(pca_reduced_df,index=analysis_df.index, columns=pca_chems)\n",
    "    analysis_scaled.to_csv(f\"output/analysis_scaled/{analysis_file}\")\n",
    "    pca_reduced_df.to_csv(f\"output/pca_df/{analysis_file}\")\n",
    "    pickle.dump(sc, open(f\"models/scalers/{analysis_file.replace('csv','pkl')}\",\"wb\"))\n",
    "    pickle.dump(pca, open(f\"models/pca/{analysis_file.replace('csv','pkl')}\",\"wb\"))"
   ]
  },
  {
   "cell_type": "code",
   "execution_count": null,
   "id": "de944af0-e871-4e59-a761-90df2afab81c",
   "metadata": {},
   "outputs": [],
   "source": [
    "for analysis_file in os.listdir(\"output/pca\"):\n",
    "    print(analysis_file)\n",
    "    pca_reduced_df = pd.read_csv(f\"output/pca/{analysis_file}\",index_col=0)\n",
    "    # if len(pca_reduced_df.columns) < 2:\n",
    "        # continue\n",
    "    mu = np.mean(pca_reduced_df, axis=0)\n",
    "    sigma = np.cov(pca_reduced_df.T)\n",
    "\n",
    "    try:\n",
    "        pca_reduced_df['mahalanobis_distance'] = [distance.mahalanobis(pca_reduced_df.iloc[i], mu, np.linalg.inv(sigma)) for i in range(len(pca_reduced_df)) ]\n",
    "    except:\n",
    "        continue\n",
    "    pca_reduced_df.to_csv(f\"output/mahalanobis_distance/{analysis_file}\")"
   ]
  },
  {
   "cell_type": "code",
   "execution_count": null,
   "id": "d2964d57-9858-4050-b214-cb525c6374a4",
   "metadata": {},
   "outputs": [],
   "source": [
    "mahalanobis_threshold_dict = {}\n",
    "for analysis_file in os.listdir(\"output/mahalanobis_distance\"):\n",
    "    print(analysis_file)\n",
    "    analysis = analysis_file.replace(\".csv\",\"\")\n",
    "    mahalanobis_df = pd.read_csv(f\"output/mahalanobis_distance/{analysis_file}\",index_col=0)\n",
    "    upper_quantile = (mahalanobis_df['mahalanobis_distance'].quantile(0.95))\n",
    "    mahalanobis_threshold_dict[analysis_file.replace(\".csv\",\"\")] = upper_quantile\n",
    "    mahalanobis_df.loc[mahalanobis_df['mahalanobis_distance'] >= upper_quantile].to_csv(f\"output/mahanobis_distance_upper_quantile/{analysis_file}\")\n",
    "    plt.boxplot(mahalanobis_df['mahalanobis_distance'])\n",
    "    plt.savefig(f\"output/mahalanobis_boxplots/{analysis}.png\")\n",
    "    plt.clf()\n",
    "pickle.dump(mahalanobis_threshold_dict, open(\"mahalanobis_thresholds.dict\",\"wb\"))"
   ]
  }
 ],
 "metadata": {
  "kernelspec": {
   "display_name": "Python 3 (ipykernel)",
   "language": "python",
   "name": "python3"
  },
  "language_info": {
   "codemirror_mode": {
    "name": "ipython",
    "version": 3
   },
   "file_extension": ".py",
   "mimetype": "text/x-python",
   "name": "python",
   "nbconvert_exporter": "python",
   "pygments_lexer": "ipython3",
   "version": "3.8.0"
  }
 },
 "nbformat": 4,
 "nbformat_minor": 5
}
