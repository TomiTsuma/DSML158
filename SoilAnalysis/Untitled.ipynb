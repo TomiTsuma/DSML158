{
 "cells": [
  {
   "cell_type": "code",
   "execution_count": 1,
   "id": "90f80269-31c3-40cd-a299-e72c2a369d7b",
   "metadata": {},
   "outputs": [],
   "source": [
    "import pandas as pd"
   ]
  },
  {
   "cell_type": "code",
   "execution_count": 2,
   "id": "3920d1fb-bb9c-48e4-ad77-2a4e63e4e018",
   "metadata": {},
   "outputs": [],
   "source": [
    "df = pd.read_csv(\"test_results.csv\")"
   ]
  },
  {
   "cell_type": "code",
   "execution_count": 3,
   "id": "fc639b19-9802-4d67-976b-131ac94b01fb",
   "metadata": {},
   "outputs": [],
   "source": [
    "df.status.value_counts().to_csv(\"status_value_counts.csv\")"
   ]
  },
  {
   "cell_type": "code",
   "execution_count": null,
   "id": "20a578ec-2a5e-4b03-8b64-ea5396dfea04",
   "metadata": {},
   "outputs": [],
   "source": []
  }
 ],
 "metadata": {
  "kernelspec": {
   "display_name": "Python 3 (ipykernel)",
   "language": "python",
   "name": "python3"
  },
  "language_info": {
   "codemirror_mode": {
    "name": "ipython",
    "version": 3
   },
   "file_extension": ".py",
   "mimetype": "text/x-python",
   "name": "python",
   "nbconvert_exporter": "python",
   "pygments_lexer": "ipython3",
   "version": "3.11.0"
  }
 },
 "nbformat": 4,
 "nbformat_minor": 5
}
