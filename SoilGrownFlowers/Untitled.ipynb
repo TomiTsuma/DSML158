{
 "cells": [
  {
   "cell_type": "code",
   "execution_count": 1,
   "id": "50a7fe12-f16c-46b9-80c2-bc5a02506d38",
   "metadata": {},
   "outputs": [],
   "source": [
    "import pandas as pd"
   ]
  },
  {
   "cell_type": "code",
   "execution_count": 2,
   "id": "e9fd0f41-e478-4c33-87a1-44ba2c6d4370",
   "metadata": {},
   "outputs": [],
   "source": [
    "df = pd.read_csv(\"test_results.csv\")"
   ]
  },
  {
   "cell_type": "code",
   "execution_count": 3,
   "id": "056882f4-c043-402c-aee4-88d1589a6890",
   "metadata": {},
   "outputs": [],
   "source": [
    "df.status.value_counts().to_csv(\"status_value_counts.csv\")"
   ]
  },
  {
   "cell_type": "code",
   "execution_count": null,
   "id": "bd5ac888-0b71-4515-bfd1-63d90efd6781",
   "metadata": {},
   "outputs": [],
   "source": []
  }
 ],
 "metadata": {
  "kernelspec": {
   "display_name": "Python 3 (ipykernel)",
   "language": "python",
   "name": "python3"
  },
  "language_info": {
   "codemirror_mode": {
    "name": "ipython",
    "version": 3
   },
   "file_extension": ".py",
   "mimetype": "text/x-python",
   "name": "python",
   "nbconvert_exporter": "python",
   "pygments_lexer": "ipython3",
   "version": "3.11.0"
  }
 },
 "nbformat": 4,
 "nbformat_minor": 5
}
